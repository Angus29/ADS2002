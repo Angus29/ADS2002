{
 "cells": [
  {
   "cell_type": "markdown",
   "metadata": {},
   "source": [
    "## A Practical Introduction to Pandas "
   ]
  },
  {
   "cell_type": "markdown",
   "metadata": {},
   "source": [
    "Pandas is one of the main Python packages for dealing with data. It is used widely in Data Science, and provides many tools for the manipulation and investigation of data sets. This tutorial introduces the basic concept of Pandas and applies these to weather data for Melbourne Airport from the Bureau of Meteorology."
   ]
  },
  {
   "cell_type": "markdown",
   "metadata": {},
   "source": [
    "## Contents"
   ]
  },
  {
   "cell_type": "markdown",
   "metadata": {},
   "source": [
    "* Introduction\n",
    "* Melbourne Weather Data (Combining Pandas and Plotting)\n",
    "* Exercises"
   ]
  },
  {
   "cell_type": "markdown",
   "metadata": {},
   "source": [
    "## Introduction"
   ]
  },
  {
   "cell_type": "markdown",
   "metadata": {},
   "source": [
    "Before applying Pandas to the Melbourne weather data, we will introduce some basic concepts. \n",
    "\n",
    "First we import the necessary libraries. The convention for Pandas is to use the abbreviation `pd`."
   ]
  },
  {
   "cell_type": "code",
   "execution_count": 2,
   "metadata": {},
   "outputs": [],
   "source": [
    "import pandas as pd\n",
    "import numpy as np\n",
    "import matplotlib.pyplot as plt"
   ]
  },
  {
   "cell_type": "markdown",
   "metadata": {},
   "source": [
    "### Series"
   ]
  },
  {
   "cell_type": "markdown",
   "metadata": {},
   "source": [
    "Pandas series can be thought of as generalizations of one-dimensional arrays or of dictionaries. In their simplest form they are an array with an explicit numerical index.\n",
    "\n",
    "To create a series we use the function `pd.Series()` and pass the argument as an array."
   ]
  },
  {
   "cell_type": "code",
   "execution_count": 2,
   "metadata": {},
   "outputs": [
    {
     "data": {
      "text/plain": [
       "0    5\n",
       "1    6\n",
       "2    7\n",
       "3    8\n",
       "dtype: int64"
      ]
     },
     "execution_count": 2,
     "metadata": {},
     "output_type": "execute_result"
    }
   ],
   "source": [
    "data = pd.Series([5, 6, 7, 8])\n",
    "data"
   ]
  },
  {
   "cell_type": "markdown",
   "metadata": {},
   "source": [
    "The series now has two objects we can view: the values for the series and the corresponding indices."
   ]
  },
  {
   "cell_type": "code",
   "execution_count": 3,
   "metadata": {},
   "outputs": [
    {
     "name": "stdout",
     "output_type": "stream",
     "text": [
      "Series values: [5 6 7 8]\n",
      "Series indices: RangeIndex(start=0, stop=4, step=1)\n"
     ]
    }
   ],
   "source": [
    "print('Series values:',data.values)\n",
    "print('Series indices:',data.index)"
   ]
  },
  {
   "cell_type": "markdown",
   "metadata": {},
   "source": [
    "We can now access the data in the same way we would for a `numpy` array, except that we also get information about the indices."
   ]
  },
  {
   "cell_type": "code",
   "execution_count": 4,
   "metadata": {},
   "outputs": [
    {
     "name": "stdout",
     "output_type": "stream",
     "text": [
      "Second element of series is: 6\n",
      "Second and third elements of series are:\n",
      "1    6\n",
      "2    7\n",
      "dtype: int64\n"
     ]
    }
   ],
   "source": [
    "print('Second element of series is:',data[1])\n",
    "print('Second and third elements of series are:')\n",
    "print(data[1:3])"
   ]
  },
  {
   "cell_type": "markdown",
   "metadata": {},
   "source": [
    "The indices for the series are no longer limited to being integers. For example, by specifying the argument `index`, we can make the indices a series of strings."
   ]
  },
  {
   "cell_type": "code",
   "execution_count": 5,
   "metadata": {},
   "outputs": [
    {
     "data": {
      "text/plain": [
       "alpha    5\n",
       "beta     6\n",
       "gamma    7\n",
       "delta    8\n",
       "dtype: int64"
      ]
     },
     "execution_count": 5,
     "metadata": {},
     "output_type": "execute_result"
    }
   ],
   "source": [
    "data = pd.Series([5, 6, 7, 8], index=['alpha','beta','gamma','delta'])\n",
    "data"
   ]
  },
  {
   "cell_type": "markdown",
   "metadata": {},
   "source": [
    "Now the data can be referred to by our new indices. Notice that using a slice of these indices the last element is included, compared to when we used integer indices and the last element is not included. "
   ]
  },
  {
   "cell_type": "code",
   "execution_count": 6,
   "metadata": {},
   "outputs": [
    {
     "name": "stdout",
     "output_type": "stream",
     "text": [
      "Single element: 5\n",
      "Slice of elements:\n",
      "alpha    5\n",
      "beta     6\n",
      "gamma    7\n",
      "dtype: int64\n"
     ]
    }
   ],
   "source": [
    "print('Single element:',data['alpha'])\n",
    "print('Slice of elements:')\n",
    "print(data['alpha':'gamma'])"
   ]
  },
  {
   "cell_type": "markdown",
   "metadata": {},
   "source": [
    "The series can now be sorted using the method `s.sort_values()` (here `s` represents the name of the current series). To sort our series in descending order, we can therefore use:"
   ]
  },
  {
   "cell_type": "code",
   "execution_count": 7,
   "metadata": {},
   "outputs": [
    {
     "data": {
      "text/plain": [
       "delta    8\n",
       "gamma    7\n",
       "beta     6\n",
       "alpha    5\n",
       "dtype: int64"
      ]
     },
     "execution_count": 7,
     "metadata": {},
     "output_type": "execute_result"
    }
   ],
   "source": [
    "data.sort_values(ascending=False)"
   ]
  },
  {
   "cell_type": "markdown",
   "metadata": {},
   "source": [
    "We also filter the results using a `mask`. For example, if we want all values in the series equal to 6, we use:"
   ]
  },
  {
   "cell_type": "code",
   "execution_count": 8,
   "metadata": {},
   "outputs": [
    {
     "data": {
      "text/plain": [
       "beta    6\n",
       "dtype: int64"
      ]
     },
     "execution_count": 8,
     "metadata": {},
     "output_type": "execute_result"
    }
   ],
   "source": [
    "data[data == 6]"
   ]
  },
  {
   "cell_type": "markdown",
   "metadata": {},
   "source": [
    "The mask is itself a series with booleans as values instead of the original values that can be used to subset the orginal series."
   ]
  },
  {
   "cell_type": "code",
   "execution_count": 9,
   "metadata": {},
   "outputs": [
    {
     "data": {
      "text/plain": [
       "alpha    False\n",
       "beta      True\n",
       "gamma    False\n",
       "delta    False\n",
       "dtype: bool"
      ]
     },
     "execution_count": 9,
     "metadata": {},
     "output_type": "execute_result"
    }
   ],
   "source": [
    "data == 6"
   ]
  },
  {
   "cell_type": "markdown",
   "metadata": {},
   "source": [
    "Masks can have multiple criteria, which are separated by an `&` (and) to specify both criteria must be true, or `!` (or) to specify either criteria to be true. Each of these criteria needs to be surrounded by brackets. To find all elements in the series greater than or equal to 5 and less than 7, we can write:"
   ]
  },
  {
   "cell_type": "code",
   "execution_count": 10,
   "metadata": {},
   "outputs": [
    {
     "data": {
      "text/plain": [
       "alpha    5\n",
       "beta     6\n",
       "dtype: int64"
      ]
     },
     "execution_count": 10,
     "metadata": {},
     "output_type": "execute_result"
    }
   ],
   "source": [
    "data[(data >= 5) & (data < 7)]"
   ]
  },
  {
   "cell_type": "markdown",
   "metadata": {},
   "source": [
    "### DataFrames"
   ]
  },
  {
   "cell_type": "markdown",
   "metadata": {},
   "source": [
    "DataFrames are two-dimensional versions of series, which can have row indices and column names. The columns can be different datatypes, e.g., integers, floats, strings or Boolean. Generally, dataframes are used much more than series, and can be thought of as analogous to an Excel worksheet or database table. \n",
    "\n",
    "There are a number of ways to create dataframes, we will just cover two here. The first is to create the dataframe from a sequence of series. Below we define three series corresponding to properties of the states and territories of Australia. Notice that for the last series the indices are ordered differently from the first two series."
   ]
  },
  {
   "cell_type": "code",
   "execution_count": 11,
   "metadata": {},
   "outputs": [],
   "source": [
    "area = pd.Series([2523924, 1723030, 1334404, 979651, 801137, 227038, 64519, 2358], \n",
    "                 index=['WA', 'QLD', 'NT', 'SA', 'NSW', 'VIC', 'TAS', 'ACT'])\n",
    "population = pd.Series([2667130, 5184847, 246500, 1770591, 8166369, 6680648, 541071, 431215], \n",
    "                 index=['WA', 'QLD', 'NT', 'SA', 'NSW', 'VIC', 'TAS', 'ACT'])\n",
    "capitals = pd.Series(['Sydney', 'Melbourne', 'Brisbane', 'Adelaide', 'Perth', 'Hobart', 'Darwin', 'Canberra'], \n",
    "                 index=['NSW', 'VIC', 'QLD', 'SA', 'WA', 'TAS', 'NT', 'ACT'])"
   ]
  },
  {
   "cell_type": "markdown",
   "metadata": {},
   "source": [
    "We can now create a dataframe using the function `pd.DataFrame()`, and passing the argument as a dictionary for the three series. The key for the dictionary (the first argument for each pair) is then used as the name for the columns of the dataframe. Notice that the dataframe is created so that the index of the entries match, and is then ordered based on the index."
   ]
  },
  {
   "cell_type": "code",
   "execution_count": 12,
   "metadata": {},
   "outputs": [
    {
     "data": {
      "text/html": [
       "<div>\n",
       "<style scoped>\n",
       "    .dataframe tbody tr th:only-of-type {\n",
       "        vertical-align: middle;\n",
       "    }\n",
       "\n",
       "    .dataframe tbody tr th {\n",
       "        vertical-align: top;\n",
       "    }\n",
       "\n",
       "    .dataframe thead th {\n",
       "        text-align: right;\n",
       "    }\n",
       "</style>\n",
       "<table border=\"1\" class=\"dataframe\">\n",
       "  <thead>\n",
       "    <tr style=\"text-align: right;\">\n",
       "      <th></th>\n",
       "      <th>population</th>\n",
       "      <th>area</th>\n",
       "      <th>capitals</th>\n",
       "    </tr>\n",
       "  </thead>\n",
       "  <tbody>\n",
       "    <tr>\n",
       "      <td>ACT</td>\n",
       "      <td>431215</td>\n",
       "      <td>2358</td>\n",
       "      <td>Canberra</td>\n",
       "    </tr>\n",
       "    <tr>\n",
       "      <td>NSW</td>\n",
       "      <td>8166369</td>\n",
       "      <td>801137</td>\n",
       "      <td>Sydney</td>\n",
       "    </tr>\n",
       "    <tr>\n",
       "      <td>NT</td>\n",
       "      <td>246500</td>\n",
       "      <td>1334404</td>\n",
       "      <td>Darwin</td>\n",
       "    </tr>\n",
       "    <tr>\n",
       "      <td>QLD</td>\n",
       "      <td>5184847</td>\n",
       "      <td>1723030</td>\n",
       "      <td>Brisbane</td>\n",
       "    </tr>\n",
       "    <tr>\n",
       "      <td>SA</td>\n",
       "      <td>1770591</td>\n",
       "      <td>979651</td>\n",
       "      <td>Adelaide</td>\n",
       "    </tr>\n",
       "    <tr>\n",
       "      <td>TAS</td>\n",
       "      <td>541071</td>\n",
       "      <td>64519</td>\n",
       "      <td>Hobart</td>\n",
       "    </tr>\n",
       "    <tr>\n",
       "      <td>VIC</td>\n",
       "      <td>6680648</td>\n",
       "      <td>227038</td>\n",
       "      <td>Melbourne</td>\n",
       "    </tr>\n",
       "    <tr>\n",
       "      <td>WA</td>\n",
       "      <td>2667130</td>\n",
       "      <td>2523924</td>\n",
       "      <td>Perth</td>\n",
       "    </tr>\n",
       "  </tbody>\n",
       "</table>\n",
       "</div>"
      ],
      "text/plain": [
       "     population     area   capitals\n",
       "ACT      431215     2358   Canberra\n",
       "NSW     8166369   801137     Sydney\n",
       "NT       246500  1334404     Darwin\n",
       "QLD     5184847  1723030   Brisbane\n",
       "SA      1770591   979651   Adelaide\n",
       "TAS      541071    64519     Hobart\n",
       "VIC     6680648   227038  Melbourne\n",
       "WA      2667130  2523924      Perth"
      ]
     },
     "execution_count": 12,
     "metadata": {},
     "output_type": "execute_result"
    }
   ],
   "source": [
    "states = pd.DataFrame({'population': population,\n",
    "                       'area': area,\n",
    "                       'capitals': capitals})\n",
    "states"
   ]
  },
  {
   "cell_type": "markdown",
   "metadata": {},
   "source": [
    "The datatypes for each column are then stored in the property `df.dtypes` (here `df` refers to the name of the current dataframe). In this case, everything is as expected."
   ]
  },
  {
   "cell_type": "code",
   "execution_count": 13,
   "metadata": {},
   "outputs": [
    {
     "data": {
      "text/plain": [
       "population     int64\n",
       "area           int64\n",
       "capitals      object\n",
       "dtype: object"
      ]
     },
     "execution_count": 13,
     "metadata": {},
     "output_type": "execute_result"
    }
   ],
   "source": [
    "states.dtypes"
   ]
  },
  {
   "cell_type": "markdown",
   "metadata": {},
   "source": [
    "We can view other properties of the dataframe, e.g., the column names and the row indices."
   ]
  },
  {
   "cell_type": "code",
   "execution_count": 14,
   "metadata": {},
   "outputs": [
    {
     "name": "stdout",
     "output_type": "stream",
     "text": [
      "Column names: Index(['population', 'area', 'capitals'], dtype='object')\n",
      "Row indices: Index(['ACT', 'NSW', 'NT', 'QLD', 'SA', 'TAS', 'VIC', 'WA'], dtype='object')\n"
     ]
    }
   ],
   "source": [
    "print('Column names:',states.columns)\n",
    "print('Row indices:',states.index)"
   ]
  },
  {
   "cell_type": "markdown",
   "metadata": {},
   "source": [
    "The other way to create the dataframe is to specify an array or list as the argument. Here we use an `numpy` array as the argument and use the `values` for the series which have already been defined. We could also explicitly define the arrays. The argument `T` at the end of the array is to take the transpose, i.e., swap the rows with the columns. The first problem that we notice is that because the indices for the capitals are different from that of the other two columns, the capitals are incorrectly assigned."
   ]
  },
  {
   "cell_type": "code",
   "execution_count": 15,
   "metadata": {},
   "outputs": [
    {
     "data": {
      "text/html": [
       "<div>\n",
       "<style scoped>\n",
       "    .dataframe tbody tr th:only-of-type {\n",
       "        vertical-align: middle;\n",
       "    }\n",
       "\n",
       "    .dataframe tbody tr th {\n",
       "        vertical-align: top;\n",
       "    }\n",
       "\n",
       "    .dataframe thead th {\n",
       "        text-align: right;\n",
       "    }\n",
       "</style>\n",
       "<table border=\"1\" class=\"dataframe\">\n",
       "  <thead>\n",
       "    <tr style=\"text-align: right;\">\n",
       "      <th></th>\n",
       "      <th>area</th>\n",
       "      <th>population</th>\n",
       "      <th>capitals</th>\n",
       "    </tr>\n",
       "  </thead>\n",
       "  <tbody>\n",
       "    <tr>\n",
       "      <td>WA</td>\n",
       "      <td>2523924</td>\n",
       "      <td>2667130</td>\n",
       "      <td>Sydney</td>\n",
       "    </tr>\n",
       "    <tr>\n",
       "      <td>QLD</td>\n",
       "      <td>1723030</td>\n",
       "      <td>5184847</td>\n",
       "      <td>Melbourne</td>\n",
       "    </tr>\n",
       "    <tr>\n",
       "      <td>NT</td>\n",
       "      <td>1334404</td>\n",
       "      <td>246500</td>\n",
       "      <td>Brisbane</td>\n",
       "    </tr>\n",
       "    <tr>\n",
       "      <td>SA</td>\n",
       "      <td>979651</td>\n",
       "      <td>1770591</td>\n",
       "      <td>Adelaide</td>\n",
       "    </tr>\n",
       "    <tr>\n",
       "      <td>NSW</td>\n",
       "      <td>801137</td>\n",
       "      <td>8166369</td>\n",
       "      <td>Perth</td>\n",
       "    </tr>\n",
       "    <tr>\n",
       "      <td>VIC</td>\n",
       "      <td>227038</td>\n",
       "      <td>6680648</td>\n",
       "      <td>Hobart</td>\n",
       "    </tr>\n",
       "    <tr>\n",
       "      <td>TAS</td>\n",
       "      <td>64519</td>\n",
       "      <td>541071</td>\n",
       "      <td>Darwin</td>\n",
       "    </tr>\n",
       "    <tr>\n",
       "      <td>ACT</td>\n",
       "      <td>2358</td>\n",
       "      <td>431215</td>\n",
       "      <td>Canberra</td>\n",
       "    </tr>\n",
       "  </tbody>\n",
       "</table>\n",
       "</div>"
      ],
      "text/plain": [
       "        area population   capitals\n",
       "WA   2523924    2667130     Sydney\n",
       "QLD  1723030    5184847  Melbourne\n",
       "NT   1334404     246500   Brisbane\n",
       "SA    979651    1770591   Adelaide\n",
       "NSW   801137    8166369      Perth\n",
       "VIC   227038    6680648     Hobart\n",
       "TAS    64519     541071     Darwin\n",
       "ACT     2358     431215   Canberra"
      ]
     },
     "execution_count": 15,
     "metadata": {},
     "output_type": "execute_result"
    }
   ],
   "source": [
    "states_alt = pd.DataFrame(np.array([area.values, population.values, capitals.values]).T,\n",
    "             columns=['area','population','capitals'],\n",
    "             index=['WA', 'QLD', 'NT', 'SA', 'NSW', 'VIC', 'TAS', 'ACT'])\n",
    "states_alt"
   ]
  },
  {
   "cell_type": "markdown",
   "metadata": {},
   "source": [
    "The second problem is that `numpy` creates an array with all the same data types, and consequently, tries to make everything a string. If we view `df.dtypes` all the columns are `object` (string)."
   ]
  },
  {
   "cell_type": "code",
   "execution_count": 16,
   "metadata": {},
   "outputs": [
    {
     "data": {
      "text/plain": [
       "area          object\n",
       "population    object\n",
       "capitals      object\n",
       "dtype: object"
      ]
     },
     "execution_count": 16,
     "metadata": {},
     "output_type": "execute_result"
    }
   ],
   "source": [
    "states_alt.dtypes"
   ]
  },
  {
   "cell_type": "markdown",
   "metadata": {},
   "source": [
    "Hence, if you are using an array to create a dataframe, you need to beware of these gotchas. The following cell shows how lists can be used to correctly create the required dataframe."
   ]
  },
  {
   "cell_type": "code",
   "execution_count": 17,
   "metadata": {},
   "outputs": [
    {
     "data": {
      "text/html": [
       "<div>\n",
       "<style scoped>\n",
       "    .dataframe tbody tr th:only-of-type {\n",
       "        vertical-align: middle;\n",
       "    }\n",
       "\n",
       "    .dataframe tbody tr th {\n",
       "        vertical-align: top;\n",
       "    }\n",
       "\n",
       "    .dataframe thead th {\n",
       "        text-align: right;\n",
       "    }\n",
       "</style>\n",
       "<table border=\"1\" class=\"dataframe\">\n",
       "  <thead>\n",
       "    <tr style=\"text-align: right;\">\n",
       "      <th></th>\n",
       "      <th>area</th>\n",
       "      <th>population</th>\n",
       "      <th>capitals</th>\n",
       "    </tr>\n",
       "  </thead>\n",
       "  <tbody>\n",
       "    <tr>\n",
       "      <td>WA</td>\n",
       "      <td>2523924</td>\n",
       "      <td>2667130</td>\n",
       "      <td>Perth</td>\n",
       "    </tr>\n",
       "    <tr>\n",
       "      <td>QLD</td>\n",
       "      <td>1723030</td>\n",
       "      <td>5184847</td>\n",
       "      <td>Brisbane</td>\n",
       "    </tr>\n",
       "    <tr>\n",
       "      <td>NT</td>\n",
       "      <td>1334404</td>\n",
       "      <td>246500</td>\n",
       "      <td>Darwin</td>\n",
       "    </tr>\n",
       "    <tr>\n",
       "      <td>SA</td>\n",
       "      <td>979651</td>\n",
       "      <td>1770591</td>\n",
       "      <td>Adelaide</td>\n",
       "    </tr>\n",
       "    <tr>\n",
       "      <td>NSW</td>\n",
       "      <td>801137</td>\n",
       "      <td>8166369</td>\n",
       "      <td>Sydney</td>\n",
       "    </tr>\n",
       "    <tr>\n",
       "      <td>VIC</td>\n",
       "      <td>227038</td>\n",
       "      <td>6680648</td>\n",
       "      <td>Melbourne</td>\n",
       "    </tr>\n",
       "    <tr>\n",
       "      <td>TAS</td>\n",
       "      <td>64519</td>\n",
       "      <td>541071</td>\n",
       "      <td>Hobart</td>\n",
       "    </tr>\n",
       "    <tr>\n",
       "      <td>ACT</td>\n",
       "      <td>2358</td>\n",
       "      <td>431215</td>\n",
       "      <td>Canberra</td>\n",
       "    </tr>\n",
       "  </tbody>\n",
       "</table>\n",
       "</div>"
      ],
      "text/plain": [
       "        area  population   capitals\n",
       "WA   2523924     2667130      Perth\n",
       "QLD  1723030     5184847   Brisbane\n",
       "NT   1334404      246500     Darwin\n",
       "SA    979651     1770591   Adelaide\n",
       "NSW   801137     8166369     Sydney\n",
       "VIC   227038     6680648  Melbourne\n",
       "TAS    64519      541071     Hobart\n",
       "ACT     2358      431215   Canberra"
      ]
     },
     "execution_count": 17,
     "metadata": {},
     "output_type": "execute_result"
    }
   ],
   "source": [
    "states_alt = pd.DataFrame([[2523924, 2667130, 'Perth'],\n",
    "                           [1723030, 5184847, 'Brisbane'],\n",
    "                           [1334404, 246500,  'Darwin'],\n",
    "                           [979651,  1770591, 'Adelaide'],\n",
    "                           [801137, 8166369, 'Sydney'],\n",
    "                           [227038, 6680648, 'Melbourne'],\n",
    "                           [64519, 541071, 'Hobart'],\n",
    "                           [2358, 431215, 'Canberra']],\n",
    "                          columns=['area','population','capitals'],\n",
    "                          index=['WA', 'QLD', 'NT', 'SA', 'NSW', 'VIC', 'TAS', 'ACT'])\n",
    "\n",
    "states_alt"
   ]
  },
  {
   "cell_type": "markdown",
   "metadata": {},
   "source": [
    "#### Manipulating Dataframes\n",
    "As with series, we can sort dataframes based on specific columns, by using the method `df.sort_values()` and specificing the argument `by`. If we want to sort the dataframe by descending population, then we can use:"
   ]
  },
  {
   "cell_type": "code",
   "execution_count": 18,
   "metadata": {},
   "outputs": [
    {
     "data": {
      "text/html": [
       "<div>\n",
       "<style scoped>\n",
       "    .dataframe tbody tr th:only-of-type {\n",
       "        vertical-align: middle;\n",
       "    }\n",
       "\n",
       "    .dataframe tbody tr th {\n",
       "        vertical-align: top;\n",
       "    }\n",
       "\n",
       "    .dataframe thead th {\n",
       "        text-align: right;\n",
       "    }\n",
       "</style>\n",
       "<table border=\"1\" class=\"dataframe\">\n",
       "  <thead>\n",
       "    <tr style=\"text-align: right;\">\n",
       "      <th></th>\n",
       "      <th>population</th>\n",
       "      <th>area</th>\n",
       "      <th>capitals</th>\n",
       "    </tr>\n",
       "  </thead>\n",
       "  <tbody>\n",
       "    <tr>\n",
       "      <td>NSW</td>\n",
       "      <td>8166369</td>\n",
       "      <td>801137</td>\n",
       "      <td>Sydney</td>\n",
       "    </tr>\n",
       "    <tr>\n",
       "      <td>VIC</td>\n",
       "      <td>6680648</td>\n",
       "      <td>227038</td>\n",
       "      <td>Melbourne</td>\n",
       "    </tr>\n",
       "    <tr>\n",
       "      <td>QLD</td>\n",
       "      <td>5184847</td>\n",
       "      <td>1723030</td>\n",
       "      <td>Brisbane</td>\n",
       "    </tr>\n",
       "    <tr>\n",
       "      <td>WA</td>\n",
       "      <td>2667130</td>\n",
       "      <td>2523924</td>\n",
       "      <td>Perth</td>\n",
       "    </tr>\n",
       "    <tr>\n",
       "      <td>SA</td>\n",
       "      <td>1770591</td>\n",
       "      <td>979651</td>\n",
       "      <td>Adelaide</td>\n",
       "    </tr>\n",
       "    <tr>\n",
       "      <td>TAS</td>\n",
       "      <td>541071</td>\n",
       "      <td>64519</td>\n",
       "      <td>Hobart</td>\n",
       "    </tr>\n",
       "    <tr>\n",
       "      <td>ACT</td>\n",
       "      <td>431215</td>\n",
       "      <td>2358</td>\n",
       "      <td>Canberra</td>\n",
       "    </tr>\n",
       "    <tr>\n",
       "      <td>NT</td>\n",
       "      <td>246500</td>\n",
       "      <td>1334404</td>\n",
       "      <td>Darwin</td>\n",
       "    </tr>\n",
       "  </tbody>\n",
       "</table>\n",
       "</div>"
      ],
      "text/plain": [
       "     population     area   capitals\n",
       "NSW     8166369   801137     Sydney\n",
       "VIC     6680648   227038  Melbourne\n",
       "QLD     5184847  1723030   Brisbane\n",
       "WA      2667130  2523924      Perth\n",
       "SA      1770591   979651   Adelaide\n",
       "TAS      541071    64519     Hobart\n",
       "ACT      431215     2358   Canberra\n",
       "NT       246500  1334404     Darwin"
      ]
     },
     "execution_count": 18,
     "metadata": {},
     "output_type": "execute_result"
    }
   ],
   "source": [
    "states.sort_values(by=['population'], ascending=False)"
   ]
  },
  {
   "cell_type": "markdown",
   "metadata": {},
   "source": [
    "Operations on the elements of the dataframe are now very easy. For example, if we want to calculate the population density in terms of people per square km, we just need to divide the population column by the area column. This can be assigned to a new column, as shown in the following cell."
   ]
  },
  {
   "cell_type": "code",
   "execution_count": 19,
   "metadata": {},
   "outputs": [
    {
     "data": {
      "text/html": [
       "<div>\n",
       "<style scoped>\n",
       "    .dataframe tbody tr th:only-of-type {\n",
       "        vertical-align: middle;\n",
       "    }\n",
       "\n",
       "    .dataframe tbody tr th {\n",
       "        vertical-align: top;\n",
       "    }\n",
       "\n",
       "    .dataframe thead th {\n",
       "        text-align: right;\n",
       "    }\n",
       "</style>\n",
       "<table border=\"1\" class=\"dataframe\">\n",
       "  <thead>\n",
       "    <tr style=\"text-align: right;\">\n",
       "      <th></th>\n",
       "      <th>population</th>\n",
       "      <th>area</th>\n",
       "      <th>capitals</th>\n",
       "      <th>density</th>\n",
       "    </tr>\n",
       "  </thead>\n",
       "  <tbody>\n",
       "    <tr>\n",
       "      <td>ACT</td>\n",
       "      <td>431215</td>\n",
       "      <td>2358</td>\n",
       "      <td>Canberra</td>\n",
       "      <td>182.873198</td>\n",
       "    </tr>\n",
       "    <tr>\n",
       "      <td>NSW</td>\n",
       "      <td>8166369</td>\n",
       "      <td>801137</td>\n",
       "      <td>Sydney</td>\n",
       "      <td>10.193474</td>\n",
       "    </tr>\n",
       "    <tr>\n",
       "      <td>NT</td>\n",
       "      <td>246500</td>\n",
       "      <td>1334404</td>\n",
       "      <td>Darwin</td>\n",
       "      <td>0.184727</td>\n",
       "    </tr>\n",
       "    <tr>\n",
       "      <td>QLD</td>\n",
       "      <td>5184847</td>\n",
       "      <td>1723030</td>\n",
       "      <td>Brisbane</td>\n",
       "      <td>3.009145</td>\n",
       "    </tr>\n",
       "    <tr>\n",
       "      <td>SA</td>\n",
       "      <td>1770591</td>\n",
       "      <td>979651</td>\n",
       "      <td>Adelaide</td>\n",
       "      <td>1.807369</td>\n",
       "    </tr>\n",
       "    <tr>\n",
       "      <td>TAS</td>\n",
       "      <td>541071</td>\n",
       "      <td>64519</td>\n",
       "      <td>Hobart</td>\n",
       "      <td>8.386227</td>\n",
       "    </tr>\n",
       "    <tr>\n",
       "      <td>VIC</td>\n",
       "      <td>6680648</td>\n",
       "      <td>227038</td>\n",
       "      <td>Melbourne</td>\n",
       "      <td>29.425242</td>\n",
       "    </tr>\n",
       "    <tr>\n",
       "      <td>WA</td>\n",
       "      <td>2667130</td>\n",
       "      <td>2523924</td>\n",
       "      <td>Perth</td>\n",
       "      <td>1.056739</td>\n",
       "    </tr>\n",
       "  </tbody>\n",
       "</table>\n",
       "</div>"
      ],
      "text/plain": [
       "     population     area   capitals     density\n",
       "ACT      431215     2358   Canberra  182.873198\n",
       "NSW     8166369   801137     Sydney   10.193474\n",
       "NT       246500  1334404     Darwin    0.184727\n",
       "QLD     5184847  1723030   Brisbane    3.009145\n",
       "SA      1770591   979651   Adelaide    1.807369\n",
       "TAS      541071    64519     Hobart    8.386227\n",
       "VIC     6680648   227038  Melbourne   29.425242\n",
       "WA      2667130  2523924      Perth    1.056739"
      ]
     },
     "execution_count": 19,
     "metadata": {},
     "output_type": "execute_result"
    }
   ],
   "source": [
    "states['density'] = states['population']/states['area']\n",
    "states"
   ]
  },
  {
   "cell_type": "markdown",
   "metadata": {},
   "source": [
    "To view a subset of the columns of the dataframe, we just need to specify a list of the required columns. For example, to view only the area and population we can use:"
   ]
  },
  {
   "cell_type": "code",
   "execution_count": 20,
   "metadata": {},
   "outputs": [
    {
     "data": {
      "text/html": [
       "<div>\n",
       "<style scoped>\n",
       "    .dataframe tbody tr th:only-of-type {\n",
       "        vertical-align: middle;\n",
       "    }\n",
       "\n",
       "    .dataframe tbody tr th {\n",
       "        vertical-align: top;\n",
       "    }\n",
       "\n",
       "    .dataframe thead th {\n",
       "        text-align: right;\n",
       "    }\n",
       "</style>\n",
       "<table border=\"1\" class=\"dataframe\">\n",
       "  <thead>\n",
       "    <tr style=\"text-align: right;\">\n",
       "      <th></th>\n",
       "      <th>area</th>\n",
       "      <th>population</th>\n",
       "    </tr>\n",
       "  </thead>\n",
       "  <tbody>\n",
       "    <tr>\n",
       "      <td>ACT</td>\n",
       "      <td>2358</td>\n",
       "      <td>431215</td>\n",
       "    </tr>\n",
       "    <tr>\n",
       "      <td>NSW</td>\n",
       "      <td>801137</td>\n",
       "      <td>8166369</td>\n",
       "    </tr>\n",
       "    <tr>\n",
       "      <td>NT</td>\n",
       "      <td>1334404</td>\n",
       "      <td>246500</td>\n",
       "    </tr>\n",
       "    <tr>\n",
       "      <td>QLD</td>\n",
       "      <td>1723030</td>\n",
       "      <td>5184847</td>\n",
       "    </tr>\n",
       "    <tr>\n",
       "      <td>SA</td>\n",
       "      <td>979651</td>\n",
       "      <td>1770591</td>\n",
       "    </tr>\n",
       "    <tr>\n",
       "      <td>TAS</td>\n",
       "      <td>64519</td>\n",
       "      <td>541071</td>\n",
       "    </tr>\n",
       "    <tr>\n",
       "      <td>VIC</td>\n",
       "      <td>227038</td>\n",
       "      <td>6680648</td>\n",
       "    </tr>\n",
       "    <tr>\n",
       "      <td>WA</td>\n",
       "      <td>2523924</td>\n",
       "      <td>2667130</td>\n",
       "    </tr>\n",
       "  </tbody>\n",
       "</table>\n",
       "</div>"
      ],
      "text/plain": [
       "        area  population\n",
       "ACT     2358      431215\n",
       "NSW   801137     8166369\n",
       "NT   1334404      246500\n",
       "QLD  1723030     5184847\n",
       "SA    979651     1770591\n",
       "TAS    64519      541071\n",
       "VIC   227038     6680648\n",
       "WA   2523924     2667130"
      ]
     },
     "execution_count": 20,
     "metadata": {},
     "output_type": "execute_result"
    }
   ],
   "source": [
    "states[['area','population']]"
   ]
  },
  {
   "cell_type": "markdown",
   "metadata": {},
   "source": [
    "Each of the columns is also a property of the dataframe, so we could view the area by specifying:"
   ]
  },
  {
   "cell_type": "code",
   "execution_count": 21,
   "metadata": {},
   "outputs": [
    {
     "data": {
      "text/plain": [
       "ACT       2358\n",
       "NSW     801137\n",
       "NT     1334404\n",
       "QLD    1723030\n",
       "SA      979651\n",
       "TAS      64519\n",
       "VIC     227038\n",
       "WA     2523924\n",
       "Name: area, dtype: int64"
      ]
     },
     "execution_count": 21,
     "metadata": {},
     "output_type": "execute_result"
    }
   ],
   "source": [
    "states.area"
   ]
  },
  {
   "cell_type": "markdown",
   "metadata": {},
   "source": [
    "As with series we can filter the rows of the dataframe based on their column properties. If we want to find the states with population density between 1 and 5, we can create a mask and specify that as the argument for the dataframe:"
   ]
  },
  {
   "cell_type": "code",
   "execution_count": 22,
   "metadata": {},
   "outputs": [
    {
     "data": {
      "text/html": [
       "<div>\n",
       "<style scoped>\n",
       "    .dataframe tbody tr th:only-of-type {\n",
       "        vertical-align: middle;\n",
       "    }\n",
       "\n",
       "    .dataframe tbody tr th {\n",
       "        vertical-align: top;\n",
       "    }\n",
       "\n",
       "    .dataframe thead th {\n",
       "        text-align: right;\n",
       "    }\n",
       "</style>\n",
       "<table border=\"1\" class=\"dataframe\">\n",
       "  <thead>\n",
       "    <tr style=\"text-align: right;\">\n",
       "      <th></th>\n",
       "      <th>population</th>\n",
       "      <th>area</th>\n",
       "      <th>capitals</th>\n",
       "      <th>density</th>\n",
       "    </tr>\n",
       "  </thead>\n",
       "  <tbody>\n",
       "    <tr>\n",
       "      <td>QLD</td>\n",
       "      <td>5184847</td>\n",
       "      <td>1723030</td>\n",
       "      <td>Brisbane</td>\n",
       "      <td>3.009145</td>\n",
       "    </tr>\n",
       "    <tr>\n",
       "      <td>SA</td>\n",
       "      <td>1770591</td>\n",
       "      <td>979651</td>\n",
       "      <td>Adelaide</td>\n",
       "      <td>1.807369</td>\n",
       "    </tr>\n",
       "    <tr>\n",
       "      <td>WA</td>\n",
       "      <td>2667130</td>\n",
       "      <td>2523924</td>\n",
       "      <td>Perth</td>\n",
       "      <td>1.056739</td>\n",
       "    </tr>\n",
       "  </tbody>\n",
       "</table>\n",
       "</div>"
      ],
      "text/plain": [
       "     population     area  capitals   density\n",
       "QLD     5184847  1723030  Brisbane  3.009145\n",
       "SA      1770591   979651  Adelaide  1.807369\n",
       "WA      2667130  2523924     Perth  1.056739"
      ]
     },
     "execution_count": 22,
     "metadata": {},
     "output_type": "execute_result"
    }
   ],
   "source": [
    "states[(states.density < 5) & (states.density > 1)]"
   ]
  },
  {
   "cell_type": "markdown",
   "metadata": {},
   "source": [
    "The filter components do not need to be based on tests of the same columns. For example, if we want to find states with areas less than 1,000,000 square km and populations less than 2,000,000, we can use:"
   ]
  },
  {
   "cell_type": "code",
   "execution_count": 23,
   "metadata": {},
   "outputs": [
    {
     "data": {
      "text/html": [
       "<div>\n",
       "<style scoped>\n",
       "    .dataframe tbody tr th:only-of-type {\n",
       "        vertical-align: middle;\n",
       "    }\n",
       "\n",
       "    .dataframe tbody tr th {\n",
       "        vertical-align: top;\n",
       "    }\n",
       "\n",
       "    .dataframe thead th {\n",
       "        text-align: right;\n",
       "    }\n",
       "</style>\n",
       "<table border=\"1\" class=\"dataframe\">\n",
       "  <thead>\n",
       "    <tr style=\"text-align: right;\">\n",
       "      <th></th>\n",
       "      <th>population</th>\n",
       "      <th>area</th>\n",
       "      <th>capitals</th>\n",
       "      <th>density</th>\n",
       "    </tr>\n",
       "  </thead>\n",
       "  <tbody>\n",
       "    <tr>\n",
       "      <td>ACT</td>\n",
       "      <td>431215</td>\n",
       "      <td>2358</td>\n",
       "      <td>Canberra</td>\n",
       "      <td>182.873198</td>\n",
       "    </tr>\n",
       "    <tr>\n",
       "      <td>SA</td>\n",
       "      <td>1770591</td>\n",
       "      <td>979651</td>\n",
       "      <td>Adelaide</td>\n",
       "      <td>1.807369</td>\n",
       "    </tr>\n",
       "    <tr>\n",
       "      <td>TAS</td>\n",
       "      <td>541071</td>\n",
       "      <td>64519</td>\n",
       "      <td>Hobart</td>\n",
       "      <td>8.386227</td>\n",
       "    </tr>\n",
       "  </tbody>\n",
       "</table>\n",
       "</div>"
      ],
      "text/plain": [
       "     population    area  capitals     density\n",
       "ACT      431215    2358  Canberra  182.873198\n",
       "SA      1770591  979651  Adelaide    1.807369\n",
       "TAS      541071   64519    Hobart    8.386227"
      ]
     },
     "execution_count": 23,
     "metadata": {},
     "output_type": "execute_result"
    }
   ],
   "source": [
    "states[(states.area < 1000000) & (states.population < 2000000)]"
   ]
  },
  {
   "cell_type": "markdown",
   "metadata": {},
   "source": [
    "Often we want to update the index of a dataframe. As an example consider creating the states dataframe, without setting the index. The index will then be an integer ranging from 0 to the number of rows of the dataframe."
   ]
  },
  {
   "cell_type": "code",
   "execution_count": 24,
   "metadata": {},
   "outputs": [
    {
     "data": {
      "text/html": [
       "<div>\n",
       "<style scoped>\n",
       "    .dataframe tbody tr th:only-of-type {\n",
       "        vertical-align: middle;\n",
       "    }\n",
       "\n",
       "    .dataframe tbody tr th {\n",
       "        vertical-align: top;\n",
       "    }\n",
       "\n",
       "    .dataframe thead th {\n",
       "        text-align: right;\n",
       "    }\n",
       "</style>\n",
       "<table border=\"1\" class=\"dataframe\">\n",
       "  <thead>\n",
       "    <tr style=\"text-align: right;\">\n",
       "      <th></th>\n",
       "      <th>area</th>\n",
       "      <th>population</th>\n",
       "      <th>capitals</th>\n",
       "      <th>state</th>\n",
       "    </tr>\n",
       "  </thead>\n",
       "  <tbody>\n",
       "    <tr>\n",
       "      <td>0</td>\n",
       "      <td>2523924</td>\n",
       "      <td>2667130</td>\n",
       "      <td>Perth</td>\n",
       "      <td>WA</td>\n",
       "    </tr>\n",
       "    <tr>\n",
       "      <td>1</td>\n",
       "      <td>1723030</td>\n",
       "      <td>5184847</td>\n",
       "      <td>Brisbane</td>\n",
       "      <td>QLD</td>\n",
       "    </tr>\n",
       "    <tr>\n",
       "      <td>2</td>\n",
       "      <td>1334404</td>\n",
       "      <td>246500</td>\n",
       "      <td>Darwin</td>\n",
       "      <td>NT</td>\n",
       "    </tr>\n",
       "    <tr>\n",
       "      <td>3</td>\n",
       "      <td>979651</td>\n",
       "      <td>1770591</td>\n",
       "      <td>Adelaide</td>\n",
       "      <td>SA</td>\n",
       "    </tr>\n",
       "    <tr>\n",
       "      <td>4</td>\n",
       "      <td>801137</td>\n",
       "      <td>8166369</td>\n",
       "      <td>Sydney</td>\n",
       "      <td>NSW</td>\n",
       "    </tr>\n",
       "    <tr>\n",
       "      <td>5</td>\n",
       "      <td>227038</td>\n",
       "      <td>6680648</td>\n",
       "      <td>Melbourne</td>\n",
       "      <td>VIC</td>\n",
       "    </tr>\n",
       "    <tr>\n",
       "      <td>6</td>\n",
       "      <td>64519</td>\n",
       "      <td>541071</td>\n",
       "      <td>Hobart</td>\n",
       "      <td>TAS</td>\n",
       "    </tr>\n",
       "    <tr>\n",
       "      <td>7</td>\n",
       "      <td>2358</td>\n",
       "      <td>431215</td>\n",
       "      <td>Canberra</td>\n",
       "      <td>ACT</td>\n",
       "    </tr>\n",
       "  </tbody>\n",
       "</table>\n",
       "</div>"
      ],
      "text/plain": [
       "      area  population   capitals state\n",
       "0  2523924     2667130      Perth    WA\n",
       "1  1723030     5184847   Brisbane   QLD\n",
       "2  1334404      246500     Darwin    NT\n",
       "3   979651     1770591   Adelaide    SA\n",
       "4   801137     8166369     Sydney   NSW\n",
       "5   227038     6680648  Melbourne   VIC\n",
       "6    64519      541071     Hobart   TAS\n",
       "7     2358      431215   Canberra   ACT"
      ]
     },
     "execution_count": 24,
     "metadata": {},
     "output_type": "execute_result"
    }
   ],
   "source": [
    "states = pd.DataFrame([[2523924, 2667130, 'Perth', 'WA'],\n",
    "                           [1723030, 5184847, 'Brisbane', 'QLD'],\n",
    "                           [1334404, 246500,  'Darwin', 'NT'],\n",
    "                           [979651,  1770591, 'Adelaide', 'SA'],\n",
    "                           [801137, 8166369, 'Sydney', 'NSW'],\n",
    "                           [227038, 6680648, 'Melbourne', 'VIC'],\n",
    "                           [64519, 541071, 'Hobart', 'TAS'],\n",
    "                           [2358, 431215, 'Canberra', 'ACT']],\n",
    "                          columns=['area','population','capitals', 'state'])\n",
    "states"
   ]
  },
  {
   "cell_type": "markdown",
   "metadata": {},
   "source": [
    "If we want to change the index to the specific state, then we can use `df.set_index()`. Note the column that is chosen to be the new index should have unique values in each row. The argument `inplace=True`, says to update the current dataframe, rather than copy to a new dataframe."
   ]
  },
  {
   "cell_type": "code",
   "execution_count": 25,
   "metadata": {},
   "outputs": [
    {
     "data": {
      "text/html": [
       "<div>\n",
       "<style scoped>\n",
       "    .dataframe tbody tr th:only-of-type {\n",
       "        vertical-align: middle;\n",
       "    }\n",
       "\n",
       "    .dataframe tbody tr th {\n",
       "        vertical-align: top;\n",
       "    }\n",
       "\n",
       "    .dataframe thead th {\n",
       "        text-align: right;\n",
       "    }\n",
       "</style>\n",
       "<table border=\"1\" class=\"dataframe\">\n",
       "  <thead>\n",
       "    <tr style=\"text-align: right;\">\n",
       "      <th></th>\n",
       "      <th>area</th>\n",
       "      <th>population</th>\n",
       "      <th>capitals</th>\n",
       "    </tr>\n",
       "    <tr>\n",
       "      <th>state</th>\n",
       "      <th></th>\n",
       "      <th></th>\n",
       "      <th></th>\n",
       "    </tr>\n",
       "  </thead>\n",
       "  <tbody>\n",
       "    <tr>\n",
       "      <td>WA</td>\n",
       "      <td>2523924</td>\n",
       "      <td>2667130</td>\n",
       "      <td>Perth</td>\n",
       "    </tr>\n",
       "    <tr>\n",
       "      <td>QLD</td>\n",
       "      <td>1723030</td>\n",
       "      <td>5184847</td>\n",
       "      <td>Brisbane</td>\n",
       "    </tr>\n",
       "    <tr>\n",
       "      <td>NT</td>\n",
       "      <td>1334404</td>\n",
       "      <td>246500</td>\n",
       "      <td>Darwin</td>\n",
       "    </tr>\n",
       "    <tr>\n",
       "      <td>SA</td>\n",
       "      <td>979651</td>\n",
       "      <td>1770591</td>\n",
       "      <td>Adelaide</td>\n",
       "    </tr>\n",
       "    <tr>\n",
       "      <td>NSW</td>\n",
       "      <td>801137</td>\n",
       "      <td>8166369</td>\n",
       "      <td>Sydney</td>\n",
       "    </tr>\n",
       "    <tr>\n",
       "      <td>VIC</td>\n",
       "      <td>227038</td>\n",
       "      <td>6680648</td>\n",
       "      <td>Melbourne</td>\n",
       "    </tr>\n",
       "    <tr>\n",
       "      <td>TAS</td>\n",
       "      <td>64519</td>\n",
       "      <td>541071</td>\n",
       "      <td>Hobart</td>\n",
       "    </tr>\n",
       "    <tr>\n",
       "      <td>ACT</td>\n",
       "      <td>2358</td>\n",
       "      <td>431215</td>\n",
       "      <td>Canberra</td>\n",
       "    </tr>\n",
       "  </tbody>\n",
       "</table>\n",
       "</div>"
      ],
      "text/plain": [
       "          area  population   capitals\n",
       "state                                \n",
       "WA     2523924     2667130      Perth\n",
       "QLD    1723030     5184847   Brisbane\n",
       "NT     1334404      246500     Darwin\n",
       "SA      979651     1770591   Adelaide\n",
       "NSW     801137     8166369     Sydney\n",
       "VIC     227038     6680648  Melbourne\n",
       "TAS      64519      541071     Hobart\n",
       "ACT       2358      431215   Canberra"
      ]
     },
     "execution_count": 25,
     "metadata": {},
     "output_type": "execute_result"
    }
   ],
   "source": [
    "states.set_index('state', inplace=True)\n",
    "states"
   ]
  },
  {
   "cell_type": "markdown",
   "metadata": {},
   "source": [
    "There are two ways to reference elements or block of elements in the dataframe. The first of these is `df.loc` which refers to the location by the column and index names. So to refer to the WA, QLD and NT, areas and populations we can use:"
   ]
  },
  {
   "cell_type": "code",
   "execution_count": 26,
   "metadata": {},
   "outputs": [
    {
     "data": {
      "text/html": [
       "<div>\n",
       "<style scoped>\n",
       "    .dataframe tbody tr th:only-of-type {\n",
       "        vertical-align: middle;\n",
       "    }\n",
       "\n",
       "    .dataframe tbody tr th {\n",
       "        vertical-align: top;\n",
       "    }\n",
       "\n",
       "    .dataframe thead th {\n",
       "        text-align: right;\n",
       "    }\n",
       "</style>\n",
       "<table border=\"1\" class=\"dataframe\">\n",
       "  <thead>\n",
       "    <tr style=\"text-align: right;\">\n",
       "      <th></th>\n",
       "      <th>area</th>\n",
       "      <th>population</th>\n",
       "    </tr>\n",
       "    <tr>\n",
       "      <th>state</th>\n",
       "      <th></th>\n",
       "      <th></th>\n",
       "    </tr>\n",
       "  </thead>\n",
       "  <tbody>\n",
       "    <tr>\n",
       "      <td>WA</td>\n",
       "      <td>2523924</td>\n",
       "      <td>2667130</td>\n",
       "    </tr>\n",
       "    <tr>\n",
       "      <td>QLD</td>\n",
       "      <td>1723030</td>\n",
       "      <td>5184847</td>\n",
       "    </tr>\n",
       "    <tr>\n",
       "      <td>NT</td>\n",
       "      <td>1334404</td>\n",
       "      <td>246500</td>\n",
       "    </tr>\n",
       "  </tbody>\n",
       "</table>\n",
       "</div>"
      ],
      "text/plain": [
       "          area  population\n",
       "state                     \n",
       "WA     2523924     2667130\n",
       "QLD    1723030     5184847\n",
       "NT     1334404      246500"
      ]
     },
     "execution_count": 26,
     "metadata": {},
     "output_type": "execute_result"
    }
   ],
   "source": [
    "states.loc['WA':'NT','area':'population']"
   ]
  },
  {
   "cell_type": "markdown",
   "metadata": {},
   "source": [
    "In this case, the last argument of the slice is included.\n",
    "\n",
    "Since WA is the first index and area is the first column, we could omit the first argument of the slices and use:"
   ]
  },
  {
   "cell_type": "code",
   "execution_count": 27,
   "metadata": {},
   "outputs": [
    {
     "data": {
      "text/html": [
       "<div>\n",
       "<style scoped>\n",
       "    .dataframe tbody tr th:only-of-type {\n",
       "        vertical-align: middle;\n",
       "    }\n",
       "\n",
       "    .dataframe tbody tr th {\n",
       "        vertical-align: top;\n",
       "    }\n",
       "\n",
       "    .dataframe thead th {\n",
       "        text-align: right;\n",
       "    }\n",
       "</style>\n",
       "<table border=\"1\" class=\"dataframe\">\n",
       "  <thead>\n",
       "    <tr style=\"text-align: right;\">\n",
       "      <th></th>\n",
       "      <th>area</th>\n",
       "      <th>population</th>\n",
       "    </tr>\n",
       "    <tr>\n",
       "      <th>state</th>\n",
       "      <th></th>\n",
       "      <th></th>\n",
       "    </tr>\n",
       "  </thead>\n",
       "  <tbody>\n",
       "    <tr>\n",
       "      <td>WA</td>\n",
       "      <td>2523924</td>\n",
       "      <td>2667130</td>\n",
       "    </tr>\n",
       "    <tr>\n",
       "      <td>QLD</td>\n",
       "      <td>1723030</td>\n",
       "      <td>5184847</td>\n",
       "    </tr>\n",
       "    <tr>\n",
       "      <td>NT</td>\n",
       "      <td>1334404</td>\n",
       "      <td>246500</td>\n",
       "    </tr>\n",
       "  </tbody>\n",
       "</table>\n",
       "</div>"
      ],
      "text/plain": [
       "          area  population\n",
       "state                     \n",
       "WA     2523924     2667130\n",
       "QLD    1723030     5184847\n",
       "NT     1334404      246500"
      ]
     },
     "execution_count": 27,
     "metadata": {},
     "output_type": "execute_result"
    }
   ],
   "source": [
    "states.loc[:'NT',:'population']"
   ]
  },
  {
   "cell_type": "markdown",
   "metadata": {},
   "source": [
    "The other way to refer to location is to use `df.iloc`, which refers to index and columns by the index values. This syntax is the same as for `numpy` arrays and the last argument of a slice is not included. Hence, to refer to the same positions we want the first three rows and the first two columns, and consequently use:"
   ]
  },
  {
   "cell_type": "code",
   "execution_count": 28,
   "metadata": {},
   "outputs": [
    {
     "data": {
      "text/html": [
       "<div>\n",
       "<style scoped>\n",
       "    .dataframe tbody tr th:only-of-type {\n",
       "        vertical-align: middle;\n",
       "    }\n",
       "\n",
       "    .dataframe tbody tr th {\n",
       "        vertical-align: top;\n",
       "    }\n",
       "\n",
       "    .dataframe thead th {\n",
       "        text-align: right;\n",
       "    }\n",
       "</style>\n",
       "<table border=\"1\" class=\"dataframe\">\n",
       "  <thead>\n",
       "    <tr style=\"text-align: right;\">\n",
       "      <th></th>\n",
       "      <th>area</th>\n",
       "      <th>population</th>\n",
       "    </tr>\n",
       "    <tr>\n",
       "      <th>state</th>\n",
       "      <th></th>\n",
       "      <th></th>\n",
       "    </tr>\n",
       "  </thead>\n",
       "  <tbody>\n",
       "    <tr>\n",
       "      <td>WA</td>\n",
       "      <td>2523924</td>\n",
       "      <td>2667130</td>\n",
       "    </tr>\n",
       "    <tr>\n",
       "      <td>QLD</td>\n",
       "      <td>1723030</td>\n",
       "      <td>5184847</td>\n",
       "    </tr>\n",
       "    <tr>\n",
       "      <td>NT</td>\n",
       "      <td>1334404</td>\n",
       "      <td>246500</td>\n",
       "    </tr>\n",
       "  </tbody>\n",
       "</table>\n",
       "</div>"
      ],
      "text/plain": [
       "          area  population\n",
       "state                     \n",
       "WA     2523924     2667130\n",
       "QLD    1723030     5184847\n",
       "NT     1334404      246500"
      ]
     },
     "execution_count": 28,
     "metadata": {},
     "output_type": "execute_result"
    }
   ],
   "source": [
    "states.iloc[:3,:2]"
   ]
  },
  {
   "cell_type": "markdown",
   "metadata": {},
   "source": [
    "## Melbourne Weather Data (Combining Pandas & Plotting)"
   ]
  },
  {
   "cell_type": "markdown",
   "metadata": {},
   "source": [
    "We will analyse here the weather data collected by the Bureau of Meteorology at [Melbourne Airport](http://www.bom.gov.au/products/IDV60901/IDV60901.94866.shtml). The data we will analyse is a modified version of the `axf` (csv) file at the bottom of this page.\n",
    "\n",
    "The data file is comma separated values (csv) file, which can be imported and stored as dataframe using `pd.read_csv()`. We will store this in the dataframe `apw`. Pandas can read many of other types of files, see [IO tools user guide](https://pandas.pydata.org/pandas-docs/stable/user_guide/io.html). For example this data also comes as JSON files, which can be read using `pd.read_json`."
   ]
  },
  {
   "cell_type": "code",
   "execution_count": 29,
   "metadata": {},
   "outputs": [],
   "source": [
    "apw = pd.read_csv('IDV60901.94866.csv') # Airport weather data"
   ]
  },
  {
   "cell_type": "markdown",
   "metadata": {},
   "source": [
    "We can view the file which has 166 entries and 17 columns. This last detail could also be obtained using `df.shape`."
   ]
  },
  {
   "cell_type": "code",
   "execution_count": 30,
   "metadata": {},
   "outputs": [
    {
     "data": {
      "text/html": [
       "<div>\n",
       "<style scoped>\n",
       "    .dataframe tbody tr th:only-of-type {\n",
       "        vertical-align: middle;\n",
       "    }\n",
       "\n",
       "    .dataframe tbody tr th {\n",
       "        vertical-align: top;\n",
       "    }\n",
       "\n",
       "    .dataframe thead th {\n",
       "        text-align: right;\n",
       "    }\n",
       "</style>\n",
       "<table border=\"1\" class=\"dataframe\">\n",
       "  <thead>\n",
       "    <tr style=\"text-align: right;\">\n",
       "      <th></th>\n",
       "      <th>local_date_time[80]</th>\n",
       "      <th>local_date_time_full[80]</th>\n",
       "      <th>apparent_t</th>\n",
       "      <th>cloud[80]</th>\n",
       "      <th>cloud_base_m</th>\n",
       "      <th>cloud_type[80]</th>\n",
       "      <th>gust_kmh</th>\n",
       "      <th>air_temp</th>\n",
       "      <th>dewpt</th>\n",
       "      <th>press_msl</th>\n",
       "      <th>press_tend[80]</th>\n",
       "      <th>rain_trace[80]</th>\n",
       "      <th>rel_hum</th>\n",
       "      <th>vis_km[80]</th>\n",
       "      <th>weather[80]</th>\n",
       "      <th>wind_dir[80]</th>\n",
       "      <th>wind_spd_kmh</th>\n",
       "    </tr>\n",
       "  </thead>\n",
       "  <tbody>\n",
       "    <tr>\n",
       "      <td>0</td>\n",
       "      <td>26/03:30pm</td>\n",
       "      <td>20210326153000</td>\n",
       "      <td>15.6</td>\n",
       "      <td>Partly cloudy</td>\n",
       "      <td>1410</td>\n",
       "      <td>Stratocumulus</td>\n",
       "      <td>32</td>\n",
       "      <td>19.9</td>\n",
       "      <td>8.0</td>\n",
       "      <td>1011.2</td>\n",
       "      <td>-</td>\n",
       "      <td>0.0</td>\n",
       "      <td>46</td>\n",
       "      <td>10</td>\n",
       "      <td>-</td>\n",
       "      <td>NNW</td>\n",
       "      <td>20</td>\n",
       "    </tr>\n",
       "    <tr>\n",
       "      <td>1</td>\n",
       "      <td>26/03:00pm</td>\n",
       "      <td>20210326150000</td>\n",
       "      <td>15.6</td>\n",
       "      <td>Mostly cloudy</td>\n",
       "      <td>1500</td>\n",
       "      <td>-</td>\n",
       "      <td>30</td>\n",
       "      <td>19.8</td>\n",
       "      <td>8.3</td>\n",
       "      <td>1011.3</td>\n",
       "      <td>R</td>\n",
       "      <td>0.0</td>\n",
       "      <td>47</td>\n",
       "      <td>30</td>\n",
       "      <td>Fine</td>\n",
       "      <td>N</td>\n",
       "      <td>20</td>\n",
       "    </tr>\n",
       "    <tr>\n",
       "      <td>2</td>\n",
       "      <td>26/02:30pm</td>\n",
       "      <td>20210326143000</td>\n",
       "      <td>15.8</td>\n",
       "      <td>Partly cloudy</td>\n",
       "      <td>1350</td>\n",
       "      <td>Stratocumulus</td>\n",
       "      <td>28</td>\n",
       "      <td>19.9</td>\n",
       "      <td>8.5</td>\n",
       "      <td>1011.4</td>\n",
       "      <td>-</td>\n",
       "      <td>0.0</td>\n",
       "      <td>47</td>\n",
       "      <td>10</td>\n",
       "      <td>-</td>\n",
       "      <td>N</td>\n",
       "      <td>20</td>\n",
       "    </tr>\n",
       "    <tr>\n",
       "      <td>3</td>\n",
       "      <td>26/02:00pm</td>\n",
       "      <td>20210326140000</td>\n",
       "      <td>16.4</td>\n",
       "      <td>Partly cloudy</td>\n",
       "      <td>1350</td>\n",
       "      <td>Stratocumulus</td>\n",
       "      <td>26</td>\n",
       "      <td>20.1</td>\n",
       "      <td>8.0</td>\n",
       "      <td>1012.0</td>\n",
       "      <td>-</td>\n",
       "      <td>0.0</td>\n",
       "      <td>45</td>\n",
       "      <td>10</td>\n",
       "      <td>-</td>\n",
       "      <td>NNW</td>\n",
       "      <td>17</td>\n",
       "    </tr>\n",
       "    <tr>\n",
       "      <td>4</td>\n",
       "      <td>26/01:30pm</td>\n",
       "      <td>20210326133000</td>\n",
       "      <td>16.0</td>\n",
       "      <td>Partly cloudy</td>\n",
       "      <td>1560</td>\n",
       "      <td>-</td>\n",
       "      <td>26</td>\n",
       "      <td>19.9</td>\n",
       "      <td>8.5</td>\n",
       "      <td>1012.2</td>\n",
       "      <td>-</td>\n",
       "      <td>0.0</td>\n",
       "      <td>47</td>\n",
       "      <td>10</td>\n",
       "      <td>-</td>\n",
       "      <td>NW</td>\n",
       "      <td>19</td>\n",
       "    </tr>\n",
       "    <tr>\n",
       "      <td>...</td>\n",
       "      <td>...</td>\n",
       "      <td>...</td>\n",
       "      <td>...</td>\n",
       "      <td>...</td>\n",
       "      <td>...</td>\n",
       "      <td>...</td>\n",
       "      <td>...</td>\n",
       "      <td>...</td>\n",
       "      <td>...</td>\n",
       "      <td>...</td>\n",
       "      <td>...</td>\n",
       "      <td>...</td>\n",
       "      <td>...</td>\n",
       "      <td>...</td>\n",
       "      <td>...</td>\n",
       "      <td>...</td>\n",
       "      <td>...</td>\n",
       "    </tr>\n",
       "    <tr>\n",
       "      <td>161</td>\n",
       "      <td>23/06:00pm</td>\n",
       "      <td>20210323180000</td>\n",
       "      <td>17.5</td>\n",
       "      <td>Mostly cloudy</td>\n",
       "      <td>300</td>\n",
       "      <td>-</td>\n",
       "      <td>28</td>\n",
       "      <td>19.8</td>\n",
       "      <td>15.6</td>\n",
       "      <td>1001.3</td>\n",
       "      <td>F</td>\n",
       "      <td>0.0</td>\n",
       "      <td>77</td>\n",
       "      <td>30</td>\n",
       "      <td>Distant precip.</td>\n",
       "      <td>SW</td>\n",
       "      <td>22</td>\n",
       "    </tr>\n",
       "    <tr>\n",
       "      <td>162</td>\n",
       "      <td>23/05:30pm</td>\n",
       "      <td>20210323173000</td>\n",
       "      <td>18.6</td>\n",
       "      <td>Mostly clear</td>\n",
       "      <td>390</td>\n",
       "      <td>Stratus</td>\n",
       "      <td>28</td>\n",
       "      <td>20.5</td>\n",
       "      <td>15.7</td>\n",
       "      <td>1001.4</td>\n",
       "      <td>-</td>\n",
       "      <td>0.0</td>\n",
       "      <td>74</td>\n",
       "      <td>10</td>\n",
       "      <td>-</td>\n",
       "      <td>SSW</td>\n",
       "      <td>20</td>\n",
       "    </tr>\n",
       "    <tr>\n",
       "      <td>163</td>\n",
       "      <td>23/05:00pm</td>\n",
       "      <td>20210323170000</td>\n",
       "      <td>18.3</td>\n",
       "      <td>Mostly clear</td>\n",
       "      <td>390</td>\n",
       "      <td>Stratus</td>\n",
       "      <td>30</td>\n",
       "      <td>20.1</td>\n",
       "      <td>16.0</td>\n",
       "      <td>1001.7</td>\n",
       "      <td>-</td>\n",
       "      <td>0.0</td>\n",
       "      <td>77</td>\n",
       "      <td>10</td>\n",
       "      <td>-</td>\n",
       "      <td>SSW</td>\n",
       "      <td>20</td>\n",
       "    </tr>\n",
       "    <tr>\n",
       "      <td>164</td>\n",
       "      <td>23/04:30pm</td>\n",
       "      <td>20210323163000</td>\n",
       "      <td>17.6</td>\n",
       "      <td>Mostly clear</td>\n",
       "      <td>450</td>\n",
       "      <td>Stratus</td>\n",
       "      <td>28</td>\n",
       "      <td>19.9</td>\n",
       "      <td>15.6</td>\n",
       "      <td>1002.0</td>\n",
       "      <td>-</td>\n",
       "      <td>0.0</td>\n",
       "      <td>76</td>\n",
       "      <td>10</td>\n",
       "      <td>-</td>\n",
       "      <td>SSW</td>\n",
       "      <td>22</td>\n",
       "    </tr>\n",
       "    <tr>\n",
       "      <td>165</td>\n",
       "      <td>23/04:00pm</td>\n",
       "      <td>20210323160000</td>\n",
       "      <td>17.8</td>\n",
       "      <td>Mostly clear</td>\n",
       "      <td>480</td>\n",
       "      <td>Stratus</td>\n",
       "      <td>28</td>\n",
       "      <td>20.0</td>\n",
       "      <td>16.0</td>\n",
       "      <td>1002.3</td>\n",
       "      <td>-</td>\n",
       "      <td>0.0</td>\n",
       "      <td>78</td>\n",
       "      <td>10</td>\n",
       "      <td>-</td>\n",
       "      <td>SSW</td>\n",
       "      <td>22</td>\n",
       "    </tr>\n",
       "  </tbody>\n",
       "</table>\n",
       "<p>166 rows × 17 columns</p>\n",
       "</div>"
      ],
      "text/plain": [
       "    local_date_time[80]  local_date_time_full[80]  apparent_t      cloud[80]  \\\n",
       "0            26/03:30pm            20210326153000        15.6  Partly cloudy   \n",
       "1            26/03:00pm            20210326150000        15.6  Mostly cloudy   \n",
       "2            26/02:30pm            20210326143000        15.8  Partly cloudy   \n",
       "3            26/02:00pm            20210326140000        16.4  Partly cloudy   \n",
       "4            26/01:30pm            20210326133000        16.0  Partly cloudy   \n",
       "..                  ...                       ...         ...            ...   \n",
       "161          23/06:00pm            20210323180000        17.5  Mostly cloudy   \n",
       "162          23/05:30pm            20210323173000        18.6   Mostly clear   \n",
       "163          23/05:00pm            20210323170000        18.3   Mostly clear   \n",
       "164          23/04:30pm            20210323163000        17.6   Mostly clear   \n",
       "165          23/04:00pm            20210323160000        17.8   Mostly clear   \n",
       "\n",
       "     cloud_base_m cloud_type[80]  gust_kmh  air_temp  dewpt  press_msl  \\\n",
       "0            1410  Stratocumulus        32      19.9    8.0     1011.2   \n",
       "1            1500              -        30      19.8    8.3     1011.3   \n",
       "2            1350  Stratocumulus        28      19.9    8.5     1011.4   \n",
       "3            1350  Stratocumulus        26      20.1    8.0     1012.0   \n",
       "4            1560              -        26      19.9    8.5     1012.2   \n",
       "..            ...            ...       ...       ...    ...        ...   \n",
       "161           300              -        28      19.8   15.6     1001.3   \n",
       "162           390        Stratus        28      20.5   15.7     1001.4   \n",
       "163           390        Stratus        30      20.1   16.0     1001.7   \n",
       "164           450        Stratus        28      19.9   15.6     1002.0   \n",
       "165           480        Stratus        28      20.0   16.0     1002.3   \n",
       "\n",
       "    press_tend[80]  rain_trace[80]  rel_hum  vis_km[80]      weather[80]  \\\n",
       "0                -             0.0       46          10                -   \n",
       "1                R             0.0       47          30             Fine   \n",
       "2                -             0.0       47          10                -   \n",
       "3                -             0.0       45          10                -   \n",
       "4                -             0.0       47          10                -   \n",
       "..             ...             ...      ...         ...              ...   \n",
       "161              F             0.0       77          30  Distant precip.   \n",
       "162              -             0.0       74          10                -   \n",
       "163              -             0.0       77          10                -   \n",
       "164              -             0.0       76          10                -   \n",
       "165              -             0.0       78          10                -   \n",
       "\n",
       "    wind_dir[80]  wind_spd_kmh  \n",
       "0            NNW            20  \n",
       "1              N            20  \n",
       "2              N            20  \n",
       "3            NNW            17  \n",
       "4             NW            19  \n",
       "..           ...           ...  \n",
       "161           SW            22  \n",
       "162          SSW            20  \n",
       "163          SSW            20  \n",
       "164          SSW            22  \n",
       "165          SSW            22  \n",
       "\n",
       "[166 rows x 17 columns]"
      ]
     },
     "execution_count": 30,
     "metadata": {},
     "output_type": "execute_result"
    }
   ],
   "source": [
    "apw"
   ]
  },
  {
   "cell_type": "markdown",
   "metadata": {},
   "source": [
    "We can get a description of the data types. Pandas infers these when reading in the file."
   ]
  },
  {
   "cell_type": "code",
   "execution_count": 31,
   "metadata": {},
   "outputs": [
    {
     "data": {
      "text/plain": [
       "local_date_time[80]          object\n",
       "local_date_time_full[80]      int64\n",
       "apparent_t                  float64\n",
       "cloud[80]                    object\n",
       "cloud_base_m                  int64\n",
       "cloud_type[80]               object\n",
       "gust_kmh                      int64\n",
       "air_temp                    float64\n",
       "dewpt                       float64\n",
       "press_msl                   float64\n",
       "press_tend[80]               object\n",
       "rain_trace[80]              float64\n",
       "rel_hum                       int64\n",
       "vis_km[80]                    int64\n",
       "weather[80]                  object\n",
       "wind_dir[80]                 object\n",
       "wind_spd_kmh                  int64\n",
       "dtype: object"
      ]
     },
     "execution_count": 31,
     "metadata": {},
     "output_type": "execute_result"
    }
   ],
   "source": [
    "apw.dtypes"
   ]
  },
  {
   "cell_type": "markdown",
   "metadata": {},
   "source": [
    "For these data, let's say we want to understand the following:\n",
    "<ul>\n",
    "<li>cloud base height over time</li>\n",
    "<li>the relationship between air temperature, dewpoint temperature, and rainfall</li>\n",
    "<li>the extent to which there are linear relationships between features in our data</li>\n",
    "</ul> \n",
    "\n",
    "For our analysis, we won't use all of the features in the data (columns), so we can drop the columns that are not required using `df.drop()`. "
   ]
  },
  {
   "cell_type": "code",
   "execution_count": 32,
   "metadata": {},
   "outputs": [
    {
     "data": {
      "text/plain": [
       "Index(['local_date_time[80]', 'local_date_time_full[80]', 'cloud[80]',\n",
       "       'cloud_base_m', 'cloud_type[80]', 'gust_kmh', 'air_temp', 'dewpt',\n",
       "       'rain_trace[80]', 'wind_spd_kmh'],\n",
       "      dtype='object')"
      ]
     },
     "execution_count": 32,
     "metadata": {},
     "output_type": "execute_result"
    }
   ],
   "source": [
    "apw.drop(columns=['apparent_t','press_msl','press_tend[80]','rel_hum','vis_km[80]','weather[80]','wind_dir[80]'], inplace=True)\n",
    "apw.columns"
   ]
  },
  {
   "cell_type": "markdown",
   "metadata": {},
   "source": [
    "We now change the names of the remaining columns to something more obvious and we will assume the units are known."
   ]
  },
  {
   "cell_type": "code",
   "execution_count": 33,
   "metadata": {},
   "outputs": [],
   "source": [
    "apw.columns = [\"DateTime\",\"FullDateTime\",\"Cloud\",\"CloudBase\",\"CloudType\",\"WindGust\",\"AirTemperature\",\"DewPtTemperature\",\"Rain\",\"WindSpeed\"]"
   ]
  },
  {
   "cell_type": "markdown",
   "metadata": {},
   "source": [
    "The dataframe has time decreasing, so we can sort it based on `FullDateTime` to be increasing."
   ]
  },
  {
   "cell_type": "code",
   "execution_count": 34,
   "metadata": {},
   "outputs": [],
   "source": [
    "apw.sort_values(by='FullDateTime',ascending=True,inplace=True)"
   ]
  },
  {
   "cell_type": "markdown",
   "metadata": {},
   "source": [
    "We can plot the header and tail of `apw` to check that time is increasing. The default is that five rows that are printed for each method. "
   ]
  },
  {
   "cell_type": "code",
   "execution_count": 35,
   "metadata": {},
   "outputs": [
    {
     "data": {
      "text/html": [
       "<div>\n",
       "<style scoped>\n",
       "    .dataframe tbody tr th:only-of-type {\n",
       "        vertical-align: middle;\n",
       "    }\n",
       "\n",
       "    .dataframe tbody tr th {\n",
       "        vertical-align: top;\n",
       "    }\n",
       "\n",
       "    .dataframe thead th {\n",
       "        text-align: right;\n",
       "    }\n",
       "</style>\n",
       "<table border=\"1\" class=\"dataframe\">\n",
       "  <thead>\n",
       "    <tr style=\"text-align: right;\">\n",
       "      <th></th>\n",
       "      <th>DateTime</th>\n",
       "      <th>FullDateTime</th>\n",
       "      <th>Cloud</th>\n",
       "      <th>CloudBase</th>\n",
       "      <th>CloudType</th>\n",
       "      <th>WindGust</th>\n",
       "      <th>AirTemperature</th>\n",
       "      <th>DewPtTemperature</th>\n",
       "      <th>Rain</th>\n",
       "      <th>WindSpeed</th>\n",
       "    </tr>\n",
       "  </thead>\n",
       "  <tbody>\n",
       "    <tr>\n",
       "      <td>165</td>\n",
       "      <td>23/04:00pm</td>\n",
       "      <td>20210323160000</td>\n",
       "      <td>Mostly clear</td>\n",
       "      <td>480</td>\n",
       "      <td>Stratus</td>\n",
       "      <td>28</td>\n",
       "      <td>20.0</td>\n",
       "      <td>16.0</td>\n",
       "      <td>0.0</td>\n",
       "      <td>22</td>\n",
       "    </tr>\n",
       "    <tr>\n",
       "      <td>164</td>\n",
       "      <td>23/04:30pm</td>\n",
       "      <td>20210323163000</td>\n",
       "      <td>Mostly clear</td>\n",
       "      <td>450</td>\n",
       "      <td>Stratus</td>\n",
       "      <td>28</td>\n",
       "      <td>19.9</td>\n",
       "      <td>15.6</td>\n",
       "      <td>0.0</td>\n",
       "      <td>22</td>\n",
       "    </tr>\n",
       "    <tr>\n",
       "      <td>163</td>\n",
       "      <td>23/05:00pm</td>\n",
       "      <td>20210323170000</td>\n",
       "      <td>Mostly clear</td>\n",
       "      <td>390</td>\n",
       "      <td>Stratus</td>\n",
       "      <td>30</td>\n",
       "      <td>20.1</td>\n",
       "      <td>16.0</td>\n",
       "      <td>0.0</td>\n",
       "      <td>20</td>\n",
       "    </tr>\n",
       "    <tr>\n",
       "      <td>162</td>\n",
       "      <td>23/05:30pm</td>\n",
       "      <td>20210323173000</td>\n",
       "      <td>Mostly clear</td>\n",
       "      <td>390</td>\n",
       "      <td>Stratus</td>\n",
       "      <td>28</td>\n",
       "      <td>20.5</td>\n",
       "      <td>15.7</td>\n",
       "      <td>0.0</td>\n",
       "      <td>20</td>\n",
       "    </tr>\n",
       "    <tr>\n",
       "      <td>161</td>\n",
       "      <td>23/06:00pm</td>\n",
       "      <td>20210323180000</td>\n",
       "      <td>Mostly cloudy</td>\n",
       "      <td>300</td>\n",
       "      <td>-</td>\n",
       "      <td>28</td>\n",
       "      <td>19.8</td>\n",
       "      <td>15.6</td>\n",
       "      <td>0.0</td>\n",
       "      <td>22</td>\n",
       "    </tr>\n",
       "  </tbody>\n",
       "</table>\n",
       "</div>"
      ],
      "text/plain": [
       "       DateTime    FullDateTime          Cloud  CloudBase CloudType  WindGust  \\\n",
       "165  23/04:00pm  20210323160000   Mostly clear        480   Stratus        28   \n",
       "164  23/04:30pm  20210323163000   Mostly clear        450   Stratus        28   \n",
       "163  23/05:00pm  20210323170000   Mostly clear        390   Stratus        30   \n",
       "162  23/05:30pm  20210323173000   Mostly clear        390   Stratus        28   \n",
       "161  23/06:00pm  20210323180000  Mostly cloudy        300         -        28   \n",
       "\n",
       "     AirTemperature  DewPtTemperature  Rain  WindSpeed  \n",
       "165            20.0              16.0   0.0         22  \n",
       "164            19.9              15.6   0.0         22  \n",
       "163            20.1              16.0   0.0         20  \n",
       "162            20.5              15.7   0.0         20  \n",
       "161            19.8              15.6   0.0         22  "
      ]
     },
     "execution_count": 35,
     "metadata": {},
     "output_type": "execute_result"
    }
   ],
   "source": [
    "apw.head()"
   ]
  },
  {
   "cell_type": "code",
   "execution_count": 36,
   "metadata": {},
   "outputs": [
    {
     "data": {
      "text/html": [
       "<div>\n",
       "<style scoped>\n",
       "    .dataframe tbody tr th:only-of-type {\n",
       "        vertical-align: middle;\n",
       "    }\n",
       "\n",
       "    .dataframe tbody tr th {\n",
       "        vertical-align: top;\n",
       "    }\n",
       "\n",
       "    .dataframe thead th {\n",
       "        text-align: right;\n",
       "    }\n",
       "</style>\n",
       "<table border=\"1\" class=\"dataframe\">\n",
       "  <thead>\n",
       "    <tr style=\"text-align: right;\">\n",
       "      <th></th>\n",
       "      <th>DateTime</th>\n",
       "      <th>FullDateTime</th>\n",
       "      <th>Cloud</th>\n",
       "      <th>CloudBase</th>\n",
       "      <th>CloudType</th>\n",
       "      <th>WindGust</th>\n",
       "      <th>AirTemperature</th>\n",
       "      <th>DewPtTemperature</th>\n",
       "      <th>Rain</th>\n",
       "      <th>WindSpeed</th>\n",
       "    </tr>\n",
       "  </thead>\n",
       "  <tbody>\n",
       "    <tr>\n",
       "      <td>4</td>\n",
       "      <td>26/01:30pm</td>\n",
       "      <td>20210326133000</td>\n",
       "      <td>Partly cloudy</td>\n",
       "      <td>1560</td>\n",
       "      <td>-</td>\n",
       "      <td>26</td>\n",
       "      <td>19.9</td>\n",
       "      <td>8.5</td>\n",
       "      <td>0.0</td>\n",
       "      <td>19</td>\n",
       "    </tr>\n",
       "    <tr>\n",
       "      <td>3</td>\n",
       "      <td>26/02:00pm</td>\n",
       "      <td>20210326140000</td>\n",
       "      <td>Partly cloudy</td>\n",
       "      <td>1350</td>\n",
       "      <td>Stratocumulus</td>\n",
       "      <td>26</td>\n",
       "      <td>20.1</td>\n",
       "      <td>8.0</td>\n",
       "      <td>0.0</td>\n",
       "      <td>17</td>\n",
       "    </tr>\n",
       "    <tr>\n",
       "      <td>2</td>\n",
       "      <td>26/02:30pm</td>\n",
       "      <td>20210326143000</td>\n",
       "      <td>Partly cloudy</td>\n",
       "      <td>1350</td>\n",
       "      <td>Stratocumulus</td>\n",
       "      <td>28</td>\n",
       "      <td>19.9</td>\n",
       "      <td>8.5</td>\n",
       "      <td>0.0</td>\n",
       "      <td>20</td>\n",
       "    </tr>\n",
       "    <tr>\n",
       "      <td>1</td>\n",
       "      <td>26/03:00pm</td>\n",
       "      <td>20210326150000</td>\n",
       "      <td>Mostly cloudy</td>\n",
       "      <td>1500</td>\n",
       "      <td>-</td>\n",
       "      <td>30</td>\n",
       "      <td>19.8</td>\n",
       "      <td>8.3</td>\n",
       "      <td>0.0</td>\n",
       "      <td>20</td>\n",
       "    </tr>\n",
       "    <tr>\n",
       "      <td>0</td>\n",
       "      <td>26/03:30pm</td>\n",
       "      <td>20210326153000</td>\n",
       "      <td>Partly cloudy</td>\n",
       "      <td>1410</td>\n",
       "      <td>Stratocumulus</td>\n",
       "      <td>32</td>\n",
       "      <td>19.9</td>\n",
       "      <td>8.0</td>\n",
       "      <td>0.0</td>\n",
       "      <td>20</td>\n",
       "    </tr>\n",
       "  </tbody>\n",
       "</table>\n",
       "</div>"
      ],
      "text/plain": [
       "     DateTime    FullDateTime          Cloud  CloudBase      CloudType  \\\n",
       "4  26/01:30pm  20210326133000  Partly cloudy       1560              -   \n",
       "3  26/02:00pm  20210326140000  Partly cloudy       1350  Stratocumulus   \n",
       "2  26/02:30pm  20210326143000  Partly cloudy       1350  Stratocumulus   \n",
       "1  26/03:00pm  20210326150000  Mostly cloudy       1500              -   \n",
       "0  26/03:30pm  20210326153000  Partly cloudy       1410  Stratocumulus   \n",
       "\n",
       "   WindGust  AirTemperature  DewPtTemperature  Rain  WindSpeed  \n",
       "4        26            19.9               8.5   0.0         19  \n",
       "3        26            20.1               8.0   0.0         17  \n",
       "2        28            19.9               8.5   0.0         20  \n",
       "1        30            19.8               8.3   0.0         20  \n",
       "0        32            19.9               8.0   0.0         20  "
      ]
     },
     "execution_count": 36,
     "metadata": {},
     "output_type": "execute_result"
    }
   ],
   "source": [
    "apw.tail()"
   ]
  },
  {
   "cell_type": "markdown",
   "metadata": {},
   "source": [
    "Everything now looks good. Next we look at the statistics of the data set using `df.describe()`. For columns which have numerical values, this prints the number of entries, the mean value, the standard deviation (spread of the data), and the values for various percentiles."
   ]
  },
  {
   "cell_type": "code",
   "execution_count": 37,
   "metadata": {},
   "outputs": [
    {
     "data": {
      "text/html": [
       "<div>\n",
       "<style scoped>\n",
       "    .dataframe tbody tr th:only-of-type {\n",
       "        vertical-align: middle;\n",
       "    }\n",
       "\n",
       "    .dataframe tbody tr th {\n",
       "        vertical-align: top;\n",
       "    }\n",
       "\n",
       "    .dataframe thead th {\n",
       "        text-align: right;\n",
       "    }\n",
       "</style>\n",
       "<table border=\"1\" class=\"dataframe\">\n",
       "  <thead>\n",
       "    <tr style=\"text-align: right;\">\n",
       "      <th></th>\n",
       "      <th>FullDateTime</th>\n",
       "      <th>CloudBase</th>\n",
       "      <th>WindGust</th>\n",
       "      <th>AirTemperature</th>\n",
       "      <th>DewPtTemperature</th>\n",
       "      <th>Rain</th>\n",
       "      <th>WindSpeed</th>\n",
       "    </tr>\n",
       "  </thead>\n",
       "  <tbody>\n",
       "    <tr>\n",
       "      <td>count</td>\n",
       "      <td>1.660000e+02</td>\n",
       "      <td>166.000000</td>\n",
       "      <td>166.000000</td>\n",
       "      <td>166.000000</td>\n",
       "      <td>166.000000</td>\n",
       "      <td>166.000000</td>\n",
       "      <td>166.000000</td>\n",
       "    </tr>\n",
       "    <tr>\n",
       "      <td>mean</td>\n",
       "      <td>2.021032e+13</td>\n",
       "      <td>-644.518072</td>\n",
       "      <td>22.156627</td>\n",
       "      <td>16.631325</td>\n",
       "      <td>12.821687</td>\n",
       "      <td>0.644578</td>\n",
       "      <td>16.349398</td>\n",
       "    </tr>\n",
       "    <tr>\n",
       "      <td>std</td>\n",
       "      <td>8.921007e+05</td>\n",
       "      <td>3496.354752</td>\n",
       "      <td>9.328330</td>\n",
       "      <td>2.677762</td>\n",
       "      <td>3.090241</td>\n",
       "      <td>1.211736</td>\n",
       "      <td>6.245355</td>\n",
       "    </tr>\n",
       "    <tr>\n",
       "      <td>min</td>\n",
       "      <td>2.021032e+13</td>\n",
       "      <td>-9999.000000</td>\n",
       "      <td>0.000000</td>\n",
       "      <td>9.500000</td>\n",
       "      <td>7.500000</td>\n",
       "      <td>0.000000</td>\n",
       "      <td>0.000000</td>\n",
       "    </tr>\n",
       "    <tr>\n",
       "      <td>25%</td>\n",
       "      <td>2.021032e+13</td>\n",
       "      <td>277.500000</td>\n",
       "      <td>15.000000</td>\n",
       "      <td>15.600000</td>\n",
       "      <td>9.200000</td>\n",
       "      <td>0.000000</td>\n",
       "      <td>13.000000</td>\n",
       "    </tr>\n",
       "    <tr>\n",
       "      <td>50%</td>\n",
       "      <td>2.021033e+13</td>\n",
       "      <td>510.000000</td>\n",
       "      <td>20.000000</td>\n",
       "      <td>16.900000</td>\n",
       "      <td>14.400000</td>\n",
       "      <td>0.000000</td>\n",
       "      <td>17.000000</td>\n",
       "    </tr>\n",
       "    <tr>\n",
       "      <td>75%</td>\n",
       "      <td>2.021033e+13</td>\n",
       "      <td>660.000000</td>\n",
       "      <td>28.000000</td>\n",
       "      <td>18.575000</td>\n",
       "      <td>15.500000</td>\n",
       "      <td>0.600000</td>\n",
       "      <td>20.000000</td>\n",
       "    </tr>\n",
       "    <tr>\n",
       "      <td>max</td>\n",
       "      <td>2.021033e+13</td>\n",
       "      <td>2500.000000</td>\n",
       "      <td>52.000000</td>\n",
       "      <td>21.700000</td>\n",
       "      <td>17.200000</td>\n",
       "      <td>3.800000</td>\n",
       "      <td>33.000000</td>\n",
       "    </tr>\n",
       "  </tbody>\n",
       "</table>\n",
       "</div>"
      ],
      "text/plain": [
       "       FullDateTime    CloudBase    WindGust  AirTemperature  \\\n",
       "count  1.660000e+02   166.000000  166.000000      166.000000   \n",
       "mean   2.021032e+13  -644.518072   22.156627       16.631325   \n",
       "std    8.921007e+05  3496.354752    9.328330        2.677762   \n",
       "min    2.021032e+13 -9999.000000    0.000000        9.500000   \n",
       "25%    2.021032e+13   277.500000   15.000000       15.600000   \n",
       "50%    2.021033e+13   510.000000   20.000000       16.900000   \n",
       "75%    2.021033e+13   660.000000   28.000000       18.575000   \n",
       "max    2.021033e+13  2500.000000   52.000000       21.700000   \n",
       "\n",
       "       DewPtTemperature        Rain   WindSpeed  \n",
       "count        166.000000  166.000000  166.000000  \n",
       "mean          12.821687    0.644578   16.349398  \n",
       "std            3.090241    1.211736    6.245355  \n",
       "min            7.500000    0.000000    0.000000  \n",
       "25%            9.200000    0.000000   13.000000  \n",
       "50%           14.400000    0.000000   17.000000  \n",
       "75%           15.500000    0.600000   20.000000  \n",
       "max           17.200000    3.800000   33.000000  "
      ]
     },
     "execution_count": 37,
     "metadata": {},
     "output_type": "execute_result"
    }
   ],
   "source": [
    "apw.describe()"
   ]
  },
  {
   "cell_type": "markdown",
   "metadata": {},
   "source": [
    "Everything looks good for the statistics, except for `CloudBase`, which has a negative mean and negative minimum. Since this measures height above ground level, negative values are not sensible. To investigate this we will print a random sample of the rows where `CloudBase` is negative."
   ]
  },
  {
   "cell_type": "code",
   "execution_count": 38,
   "metadata": {},
   "outputs": [
    {
     "data": {
      "text/html": [
       "<div>\n",
       "<style scoped>\n",
       "    .dataframe tbody tr th:only-of-type {\n",
       "        vertical-align: middle;\n",
       "    }\n",
       "\n",
       "    .dataframe tbody tr th {\n",
       "        vertical-align: top;\n",
       "    }\n",
       "\n",
       "    .dataframe thead th {\n",
       "        text-align: right;\n",
       "    }\n",
       "</style>\n",
       "<table border=\"1\" class=\"dataframe\">\n",
       "  <thead>\n",
       "    <tr style=\"text-align: right;\">\n",
       "      <th></th>\n",
       "      <th>DateTime</th>\n",
       "      <th>FullDateTime</th>\n",
       "      <th>Cloud</th>\n",
       "      <th>CloudBase</th>\n",
       "      <th>CloudType</th>\n",
       "      <th>WindGust</th>\n",
       "      <th>AirTemperature</th>\n",
       "      <th>DewPtTemperature</th>\n",
       "      <th>Rain</th>\n",
       "      <th>WindSpeed</th>\n",
       "    </tr>\n",
       "  </thead>\n",
       "  <tbody>\n",
       "    <tr>\n",
       "      <td>20</td>\n",
       "      <td>26/05:30am</td>\n",
       "      <td>20210326053000</td>\n",
       "      <td>-</td>\n",
       "      <td>-9999</td>\n",
       "      <td>-</td>\n",
       "      <td>19</td>\n",
       "      <td>10.7</td>\n",
       "      <td>8.3</td>\n",
       "      <td>0.0</td>\n",
       "      <td>15</td>\n",
       "    </tr>\n",
       "    <tr>\n",
       "      <td>11</td>\n",
       "      <td>26/10:00am</td>\n",
       "      <td>20210326100000</td>\n",
       "      <td>-</td>\n",
       "      <td>-9999</td>\n",
       "      <td>-</td>\n",
       "      <td>19</td>\n",
       "      <td>16.1</td>\n",
       "      <td>9.2</td>\n",
       "      <td>0.0</td>\n",
       "      <td>17</td>\n",
       "    </tr>\n",
       "    <tr>\n",
       "      <td>12</td>\n",
       "      <td>26/09:30am</td>\n",
       "      <td>20210326093000</td>\n",
       "      <td>-</td>\n",
       "      <td>-9999</td>\n",
       "      <td>-</td>\n",
       "      <td>19</td>\n",
       "      <td>14.5</td>\n",
       "      <td>9.3</td>\n",
       "      <td>0.0</td>\n",
       "      <td>17</td>\n",
       "    </tr>\n",
       "    <tr>\n",
       "      <td>27</td>\n",
       "      <td>26/02:00am</td>\n",
       "      <td>20210326020000</td>\n",
       "      <td>-</td>\n",
       "      <td>-9999</td>\n",
       "      <td>-</td>\n",
       "      <td>15</td>\n",
       "      <td>11.2</td>\n",
       "      <td>8.8</td>\n",
       "      <td>0.0</td>\n",
       "      <td>13</td>\n",
       "    </tr>\n",
       "    <tr>\n",
       "      <td>32</td>\n",
       "      <td>25/11:30pm</td>\n",
       "      <td>20210325233000</td>\n",
       "      <td>-</td>\n",
       "      <td>-9999</td>\n",
       "      <td>-</td>\n",
       "      <td>13</td>\n",
       "      <td>12.2</td>\n",
       "      <td>9.0</td>\n",
       "      <td>0.0</td>\n",
       "      <td>11</td>\n",
       "    </tr>\n",
       "    <tr>\n",
       "      <td>23</td>\n",
       "      <td>26/04:00am</td>\n",
       "      <td>20210326040000</td>\n",
       "      <td>-</td>\n",
       "      <td>-9999</td>\n",
       "      <td>-</td>\n",
       "      <td>19</td>\n",
       "      <td>10.3</td>\n",
       "      <td>8.5</td>\n",
       "      <td>0.0</td>\n",
       "      <td>17</td>\n",
       "    </tr>\n",
       "    <tr>\n",
       "      <td>33</td>\n",
       "      <td>25/11:00pm</td>\n",
       "      <td>20210325230000</td>\n",
       "      <td>-</td>\n",
       "      <td>-9999</td>\n",
       "      <td>-</td>\n",
       "      <td>13</td>\n",
       "      <td>12.5</td>\n",
       "      <td>9.1</td>\n",
       "      <td>0.0</td>\n",
       "      <td>11</td>\n",
       "    </tr>\n",
       "    <tr>\n",
       "      <td>26</td>\n",
       "      <td>26/02:30am</td>\n",
       "      <td>20210326023000</td>\n",
       "      <td>-</td>\n",
       "      <td>-9999</td>\n",
       "      <td>-</td>\n",
       "      <td>19</td>\n",
       "      <td>11.6</td>\n",
       "      <td>8.8</td>\n",
       "      <td>0.0</td>\n",
       "      <td>15</td>\n",
       "    </tr>\n",
       "    <tr>\n",
       "      <td>29</td>\n",
       "      <td>26/01:00am</td>\n",
       "      <td>20210326010000</td>\n",
       "      <td>-</td>\n",
       "      <td>-9999</td>\n",
       "      <td>-</td>\n",
       "      <td>13</td>\n",
       "      <td>11.7</td>\n",
       "      <td>8.9</td>\n",
       "      <td>0.0</td>\n",
       "      <td>11</td>\n",
       "    </tr>\n",
       "    <tr>\n",
       "      <td>34</td>\n",
       "      <td>25/10:30pm</td>\n",
       "      <td>20210325223000</td>\n",
       "      <td>-</td>\n",
       "      <td>-9999</td>\n",
       "      <td>-</td>\n",
       "      <td>7</td>\n",
       "      <td>13.4</td>\n",
       "      <td>9.3</td>\n",
       "      <td>0.0</td>\n",
       "      <td>7</td>\n",
       "    </tr>\n",
       "  </tbody>\n",
       "</table>\n",
       "</div>"
      ],
      "text/plain": [
       "      DateTime    FullDateTime Cloud  CloudBase CloudType  WindGust  \\\n",
       "20  26/05:30am  20210326053000     -      -9999         -        19   \n",
       "11  26/10:00am  20210326100000     -      -9999         -        19   \n",
       "12  26/09:30am  20210326093000     -      -9999         -        19   \n",
       "27  26/02:00am  20210326020000     -      -9999         -        15   \n",
       "32  25/11:30pm  20210325233000     -      -9999         -        13   \n",
       "23  26/04:00am  20210326040000     -      -9999         -        19   \n",
       "33  25/11:00pm  20210325230000     -      -9999         -        13   \n",
       "26  26/02:30am  20210326023000     -      -9999         -        19   \n",
       "29  26/01:00am  20210326010000     -      -9999         -        13   \n",
       "34  25/10:30pm  20210325223000     -      -9999         -         7   \n",
       "\n",
       "    AirTemperature  DewPtTemperature  Rain  WindSpeed  \n",
       "20            10.7               8.3   0.0         15  \n",
       "11            16.1               9.2   0.0         17  \n",
       "12            14.5               9.3   0.0         17  \n",
       "27            11.2               8.8   0.0         13  \n",
       "32            12.2               9.0   0.0         11  \n",
       "23            10.3               8.5   0.0         17  \n",
       "33            12.5               9.1   0.0         11  \n",
       "26            11.6               8.8   0.0         15  \n",
       "29            11.7               8.9   0.0         11  \n",
       "34            13.4               9.3   0.0          7  "
      ]
     },
     "execution_count": 38,
     "metadata": {},
     "output_type": "execute_result"
    }
   ],
   "source": [
    "apw[apw.CloudBase < 0].sample(10)"
   ]
  },
  {
   "cell_type": "markdown",
   "metadata": {},
   "source": [
    "It is apparent when `CloudBase` is negative, then `Cloud` and `CloudType` are missing values. This suggests that for these instances there is minimal or no cloud coverage. Furthermore, when `CloudBase` is negative it always has the large negative value of -9999, which is often a flag used for missing values. However, Pandas does not process these values correctly. Instead they need to be converted to NaN (not a number), which then are ignored in calculating the statistics and plotting the fields. To remove these we use the method `df.mask()` which replaces all values matching the given criteria (`CloudBase` negative) with NaN values."
   ]
  },
  {
   "cell_type": "code",
   "execution_count": 39,
   "metadata": {},
   "outputs": [],
   "source": [
    "apw['CloudBase'] = apw['CloudBase'].mask(apw[\"CloudBase\"] < 0)\n"
   ]
  },
  {
   "cell_type": "markdown",
   "metadata": {},
   "source": [
    "Now we can investigate the statistics of `apw` again, and now there are 146 numeric entries, and the statistics are all positive values."
   ]
  },
  {
   "cell_type": "code",
   "execution_count": 40,
   "metadata": {},
   "outputs": [
    {
     "data": {
      "text/html": [
       "<div>\n",
       "<style scoped>\n",
       "    .dataframe tbody tr th:only-of-type {\n",
       "        vertical-align: middle;\n",
       "    }\n",
       "\n",
       "    .dataframe tbody tr th {\n",
       "        vertical-align: top;\n",
       "    }\n",
       "\n",
       "    .dataframe thead th {\n",
       "        text-align: right;\n",
       "    }\n",
       "</style>\n",
       "<table border=\"1\" class=\"dataframe\">\n",
       "  <thead>\n",
       "    <tr style=\"text-align: right;\">\n",
       "      <th></th>\n",
       "      <th>FullDateTime</th>\n",
       "      <th>CloudBase</th>\n",
       "      <th>WindGust</th>\n",
       "      <th>AirTemperature</th>\n",
       "      <th>DewPtTemperature</th>\n",
       "      <th>Rain</th>\n",
       "      <th>WindSpeed</th>\n",
       "    </tr>\n",
       "  </thead>\n",
       "  <tbody>\n",
       "    <tr>\n",
       "      <td>count</td>\n",
       "      <td>1.660000e+02</td>\n",
       "      <td>146.000000</td>\n",
       "      <td>166.000000</td>\n",
       "      <td>166.000000</td>\n",
       "      <td>166.000000</td>\n",
       "      <td>166.000000</td>\n",
       "      <td>166.000000</td>\n",
       "    </tr>\n",
       "    <tr>\n",
       "      <td>mean</td>\n",
       "      <td>2.021032e+13</td>\n",
       "      <td>636.917808</td>\n",
       "      <td>22.156627</td>\n",
       "      <td>16.631325</td>\n",
       "      <td>12.821687</td>\n",
       "      <td>0.644578</td>\n",
       "      <td>16.349398</td>\n",
       "    </tr>\n",
       "    <tr>\n",
       "      <td>std</td>\n",
       "      <td>8.921007e+05</td>\n",
       "      <td>432.888558</td>\n",
       "      <td>9.328330</td>\n",
       "      <td>2.677762</td>\n",
       "      <td>3.090241</td>\n",
       "      <td>1.211736</td>\n",
       "      <td>6.245355</td>\n",
       "    </tr>\n",
       "    <tr>\n",
       "      <td>min</td>\n",
       "      <td>2.021032e+13</td>\n",
       "      <td>100.000000</td>\n",
       "      <td>0.000000</td>\n",
       "      <td>9.500000</td>\n",
       "      <td>7.500000</td>\n",
       "      <td>0.000000</td>\n",
       "      <td>0.000000</td>\n",
       "    </tr>\n",
       "    <tr>\n",
       "      <td>25%</td>\n",
       "      <td>2.021032e+13</td>\n",
       "      <td>330.000000</td>\n",
       "      <td>15.000000</td>\n",
       "      <td>15.600000</td>\n",
       "      <td>9.200000</td>\n",
       "      <td>0.000000</td>\n",
       "      <td>13.000000</td>\n",
       "    </tr>\n",
       "    <tr>\n",
       "      <td>50%</td>\n",
       "      <td>2.021033e+13</td>\n",
       "      <td>540.000000</td>\n",
       "      <td>20.000000</td>\n",
       "      <td>16.900000</td>\n",
       "      <td>14.400000</td>\n",
       "      <td>0.000000</td>\n",
       "      <td>17.000000</td>\n",
       "    </tr>\n",
       "    <tr>\n",
       "      <td>75%</td>\n",
       "      <td>2.021033e+13</td>\n",
       "      <td>772.500000</td>\n",
       "      <td>28.000000</td>\n",
       "      <td>18.575000</td>\n",
       "      <td>15.500000</td>\n",
       "      <td>0.600000</td>\n",
       "      <td>20.000000</td>\n",
       "    </tr>\n",
       "    <tr>\n",
       "      <td>max</td>\n",
       "      <td>2.021033e+13</td>\n",
       "      <td>2500.000000</td>\n",
       "      <td>52.000000</td>\n",
       "      <td>21.700000</td>\n",
       "      <td>17.200000</td>\n",
       "      <td>3.800000</td>\n",
       "      <td>33.000000</td>\n",
       "    </tr>\n",
       "  </tbody>\n",
       "</table>\n",
       "</div>"
      ],
      "text/plain": [
       "       FullDateTime    CloudBase    WindGust  AirTemperature  \\\n",
       "count  1.660000e+02   146.000000  166.000000      166.000000   \n",
       "mean   2.021032e+13   636.917808   22.156627       16.631325   \n",
       "std    8.921007e+05   432.888558    9.328330        2.677762   \n",
       "min    2.021032e+13   100.000000    0.000000        9.500000   \n",
       "25%    2.021032e+13   330.000000   15.000000       15.600000   \n",
       "50%    2.021033e+13   540.000000   20.000000       16.900000   \n",
       "75%    2.021033e+13   772.500000   28.000000       18.575000   \n",
       "max    2.021033e+13  2500.000000   52.000000       21.700000   \n",
       "\n",
       "       DewPtTemperature        Rain   WindSpeed  \n",
       "count        166.000000  166.000000  166.000000  \n",
       "mean          12.821687    0.644578   16.349398  \n",
       "std            3.090241    1.211736    6.245355  \n",
       "min            7.500000    0.000000    0.000000  \n",
       "25%            9.200000    0.000000   13.000000  \n",
       "50%           14.400000    0.000000   17.000000  \n",
       "75%           15.500000    0.600000   20.000000  \n",
       "max           17.200000    3.800000   33.000000  "
      ]
     },
     "execution_count": 40,
     "metadata": {},
     "output_type": "execute_result"
    }
   ],
   "source": [
    "apw.describe()"
   ]
  },
  {
   "cell_type": "markdown",
   "metadata": {},
   "source": [
    "We can plot the cloud base against time, and we see the negative values are now ignored. Plotting of dataframes is builtin to Pandas using the method `df.plot()` (and a number of other plotting routines). This provides an interface for the dataframe to `matplotlib`."
   ]
  },
  {
   "cell_type": "code",
   "execution_count": 41,
   "metadata": {},
   "outputs": [
    {
     "data": {
      "image/png": "[encoded data removed]",
      "text/plain": [
       "<Figure size 432x288 with 1 Axes>"
      ]
     },
     "metadata": {
      "needs_background": "light"
     },
     "output_type": "display_data"
    }
   ],
   "source": [
    "#plt.figure()\n",
    "apw.plot(x='DateTime',y='CloudBase')\n",
    "plt.xlabel('Date and Time')         \n",
    "plt.ylabel('Height of cloud base (m)')\n",
    "plt.xticks(rotation=45);"
   ]
  },
  {
   "cell_type": "markdown",
   "metadata": {},
   "source": [
    "To further illustrate the plotting methods, we can plot the air and dewpoint temperatures and the rainfall. Using `axis.twinx()` we can plot fields with different dimensions on the same plot. Note that rainfall generally occurs when the air is saturated, i.e., when the dewpoint temperature approaches the air temperature."
   ]
  },
  {
   "cell_type": "code",
   "execution_count": 42,
   "metadata": {},
   "outputs": [
    {
     "data": {
      "image/png": "[encoded data removed]",
      "text/plain": [
       "<Figure size 432x288 with 2 Axes>"
      ]
     },
     "metadata": {
      "needs_background": "light"
     },
     "output_type": "display_data"
    }
   ],
   "source": [
    "#plt.figure()\n",
    "ax1 = apw.plot(x='DateTime',y='AirTemperature',color='red') # create reference axes ax1\n",
    "apw.plot(x='DateTime',y='DewPtTemperature',ax=ax1,color='blue') # plot on the already created axes ax1\n",
    "plt.ylabel('Degrees Celsius')\n",
    "plt.ylim(0,25)\n",
    "plt.xlabel('Date and Time')\n",
    "plt.xticks(rotation=45)\n",
    "plt.legend('')\n",
    "\n",
    "ax2 = ax1.twinx() # create a second set of axes for Rain for which the labels will appear on the left\n",
    "apw.plot(x='DateTime',y='Rain',ax=ax2,color='green',legend='None')\n",
    "plt.ylabel('Rainfall since 9 am (mm)')\n",
    "plt.ylim(0,20)\n",
    "plt.legend('')\n",
    "plt.title('Air (red) and dewpoint (blue) temperatures and rainfall (green)');"
   ]
  },
  {
   "cell_type": "markdown",
   "metadata": {},
   "source": [
    "Finally we can investigate the relationships between our numerical variables. The simplest of these is the correlation. Roughly, if this is close to 1 there is an approximately linearly increasing relationship, if it is close to -1 there is an approximately linearly decreasing relationship and if it is close to 0 there is no linear relationship between the variables. This can be calculated using the `df.corr()` method. We first drop the field `FullDateTime`."
   ]
  },
  {
   "cell_type": "code",
   "execution_count": 44,
   "metadata": {},
   "outputs": [
    {
     "data": {
      "text/html": [
       "<div>\n",
       "<style scoped>\n",
       "    .dataframe tbody tr th:only-of-type {\n",
       "        vertical-align: middle;\n",
       "    }\n",
       "\n",
       "    .dataframe tbody tr th {\n",
       "        vertical-align: top;\n",
       "    }\n",
       "\n",
       "    .dataframe thead th {\n",
       "        text-align: right;\n",
       "    }\n",
       "</style>\n",
       "<table border=\"1\" class=\"dataframe\">\n",
       "  <thead>\n",
       "    <tr style=\"text-align: right;\">\n",
       "      <th></th>\n",
       "      <th>CloudBase</th>\n",
       "      <th>WindGust</th>\n",
       "      <th>AirTemperature</th>\n",
       "      <th>DewPtTemperature</th>\n",
       "      <th>Rain</th>\n",
       "      <th>WindSpeed</th>\n",
       "    </tr>\n",
       "  </thead>\n",
       "  <tbody>\n",
       "    <tr>\n",
       "      <td>CloudBase</td>\n",
       "      <td>1.000000</td>\n",
       "      <td>0.158533</td>\n",
       "      <td>-0.167699</td>\n",
       "      <td>-0.835048</td>\n",
       "      <td>-0.323598</td>\n",
       "      <td>0.171250</td>\n",
       "    </tr>\n",
       "    <tr>\n",
       "      <td>WindGust</td>\n",
       "      <td>0.158533</td>\n",
       "      <td>1.000000</td>\n",
       "      <td>0.332760</td>\n",
       "      <td>-0.214145</td>\n",
       "      <td>0.085809</td>\n",
       "      <td>0.940103</td>\n",
       "    </tr>\n",
       "    <tr>\n",
       "      <td>AirTemperature</td>\n",
       "      <td>-0.167699</td>\n",
       "      <td>0.332760</td>\n",
       "      <td>1.000000</td>\n",
       "      <td>0.420677</td>\n",
       "      <td>-0.110149</td>\n",
       "      <td>0.271866</td>\n",
       "    </tr>\n",
       "    <tr>\n",
       "      <td>DewPtTemperature</td>\n",
       "      <td>-0.835048</td>\n",
       "      <td>-0.214145</td>\n",
       "      <td>0.420677</td>\n",
       "      <td>1.000000</td>\n",
       "      <td>0.257440</td>\n",
       "      <td>-0.233120</td>\n",
       "    </tr>\n",
       "    <tr>\n",
       "      <td>Rain</td>\n",
       "      <td>-0.323598</td>\n",
       "      <td>0.085809</td>\n",
       "      <td>-0.110149</td>\n",
       "      <td>0.257440</td>\n",
       "      <td>1.000000</td>\n",
       "      <td>0.056552</td>\n",
       "    </tr>\n",
       "    <tr>\n",
       "      <td>WindSpeed</td>\n",
       "      <td>0.171250</td>\n",
       "      <td>0.940103</td>\n",
       "      <td>0.271866</td>\n",
       "      <td>-0.233120</td>\n",
       "      <td>0.056552</td>\n",
       "      <td>1.000000</td>\n",
       "    </tr>\n",
       "  </tbody>\n",
       "</table>\n",
       "</div>"
      ],
      "text/plain": [
       "                  CloudBase  WindGust  AirTemperature  DewPtTemperature  \\\n",
       "CloudBase          1.000000  0.158533       -0.167699         -0.835048   \n",
       "WindGust           0.158533  1.000000        0.332760         -0.214145   \n",
       "AirTemperature    -0.167699  0.332760        1.000000          0.420677   \n",
       "DewPtTemperature  -0.835048 -0.214145        0.420677          1.000000   \n",
       "Rain              -0.323598  0.085809       -0.110149          0.257440   \n",
       "WindSpeed          0.171250  0.940103        0.271866         -0.233120   \n",
       "\n",
       "                      Rain  WindSpeed  \n",
       "CloudBase        -0.323598   0.171250  \n",
       "WindGust          0.085809   0.940103  \n",
       "AirTemperature   -0.110149   0.271866  \n",
       "DewPtTemperature  0.257440  -0.233120  \n",
       "Rain              1.000000   0.056552  \n",
       "WindSpeed         0.056552   1.000000  "
      ]
     },
     "execution_count": 44,
     "metadata": {},
     "output_type": "execute_result"
    }
   ],
   "source": [
    "dapw = apw.drop(columns=['FullDateTime'])\n",
    "dapw.corr()"
   ]
  },
  {
   "cell_type": "markdown",
   "metadata": {},
   "source": [
    "The correlations show that CloudBase and DewPtTemperature are strongly correlated, and WindGust and WindSpeed are strongly correlated. This is to be expected and can be seen in the plots between these variables. The rest are only weakly correlated, for example, if we plot AirTemperature against DewPtTemperature there is clearly no linear relationship between the variables."
   ]
  },
  {
   "cell_type": "code",
   "execution_count": 45,
   "metadata": {},
   "outputs": [
    {
     "data": {
      "image/png": "[encoded data removed]",
      "text/plain": [
       "<Figure size 432x288 with 1 Axes>"
      ]
     },
     "metadata": {
      "needs_background": "light"
     },
     "output_type": "display_data"
    }
   ],
   "source": [
    "apw.plot.scatter(x='WindSpeed',y='WindGust');"
   ]
  },
  {
   "cell_type": "code",
   "execution_count": 46,
   "metadata": {},
   "outputs": [
    {
     "data": {
      "text/plain": [
       "<matplotlib.axes._subplots.AxesSubplot at 0x115a27290>"
      ]
     },
     "execution_count": 46,
     "metadata": {},
     "output_type": "execute_result"
    },
    {
     "data": {
      "image/png": "[encoded data removed]",
      "text/plain": [
       "<Figure size 432x288 with 1 Axes>"
      ]
     },
     "metadata": {
      "needs_background": "light"
     },
     "output_type": "display_data"
    }
   ],
   "source": [
    "apw.plot.scatter(x='CloudBase',y='DewPtTemperature')"
   ]
  },
  {
   "cell_type": "code",
   "execution_count": 47,
   "metadata": {},
   "outputs": [
    {
     "data": {
      "image/png": "[encoded data removed]",
      "text/plain": [
       "<Figure size 432x288 with 1 Axes>"
      ]
     },
     "metadata": {
      "needs_background": "light"
     },
     "output_type": "display_data"
    }
   ],
   "source": [
    "apw.plot.scatter(x='AirTemperature',y='DewPtTemperature');"
   ]
  },
  {
   "cell_type": "markdown",
   "metadata": {},
   "source": [
    "## Exercises"
   ]
  },
  {
   "cell_type": "markdown",
   "metadata": {},
   "source": [
    "### Exercise 1"
   ]
  },
  {
   "cell_type": "markdown",
   "metadata": {},
   "source": [
    "Create a series that contains the first names (as indexes) and heights (in cm, as values) of at least five people you know. If you don't know the exact height, you can estimate. Sort the series by ascending height. Filter the series to show only heights greater than 175 cm."
   ]
  },
  {
   "cell_type": "code",
   "execution_count": null,
   "metadata": {},
   "outputs": [],
   "source": []
  },
  {
   "cell_type": "markdown",
   "metadata": {},
   "source": [
    "### Exercise 2"
   ]
  },
  {
   "cell_type": "markdown",
   "metadata": {},
   "source": [
    "Given the following series that describe the height and average number of \"marks\" for players on the 2019 Richmond AFL Team, sort the dataframe by ascending height and filter the dataframe to only show heights less than 175cm. Use `df.corr()` to examine the relationship between height and marks on this team. Plot the relationship using `plot.scatter()`."
   ]
  },
  {
   "cell_type": "code",
   "execution_count": 6,
   "metadata": {},
   "outputs": [],
   "source": [
    "height = pd.Series([195,173,194,175,192,182,186,181,199,200,185,182,180,181,192,181,193,177,180,178,199,188,187,191,187,182,199,184,175,194,193,179,187,178,204,179,187,187,182], \n",
    "                 index=[\"Astbury, David\",\"Baker, Liam\",\"Balta, Noah\",\"Bolton, Shai\",\"Broad, Nathan\",\"Butler, Dan\",\"Caddy, Josh\",\"Castagna, Jason\",\"Chol, Mabior\",\"Coleman-Jones, Callum\",\"Cotchin, Trent\",\"Edwards, Shane\",\"Eggmolesse-Smith, Derek\",\"Ellis, Brandon\",\"Garthwaite, Ryan\",\"Graham, Jack\",\"Grimes, Dylan\",\"Higgins, Jack\",\"Houli, Bachar\",\"Lambert, Kane\",\"Lynch, Tom J\",\"Markov, Oleg\",\"Martin, Dustin\",\"McIntosh, Kamdyn\",\"Menadue, Connor\",\"Naish, Patrick\",\"Nankervis, Toby\",\"Pickett, Marlion\",\"Prestia, Dion\",\"Rance, Alex\",\"Riewoldt, Jack\",\"Rioli, Daniel\",\"Ross, Jack\",\"Short, Jayden\",\"Soldo, Ivan\",\"Stack, Sydney\",\"Townsend, Jacob\",\"Vlastuin, Nick\",\"Weller, Maverick\"])\n",
    "\n",
    "\n",
    "avg_marks = pd.Series([6.00,3.32,2.31,3.05,3.58,2.00,3.56,4.13,2.44,3.00,2.64,3.29,2.00,5.04,4.00,2.25,5.38,3.00,6.41,4.62,5.04,4.50,4.17,4.00,3.17,4.50,2.33,2.00,3.44,2.00,4.23,2.82,2.43,4.40,2.36,4.88,1.00,6.50,3.00], \n",
    "                 index=[\"Astbury, David\",\"Baker, Liam\",\"Balta, Noah\",\"Bolton, Shai\",\"Broad, Nathan\",\"Butler, Dan\",\"Caddy, Josh\",\"Castagna, Jason\",\"Chol, Mabior\",\"Coleman-Jones, Callum\",\"Cotchin, Trent\",\"Edwards, Shane\",\"Eggmolesse-Smith, Derek\",\"Ellis, Brandon\",\"Garthwaite, Ryan\",\"Graham, Jack\",\"Grimes, Dylan\",\"Higgins, Jack\",\"Houli, Bachar\",\"Lambert, Kane\",\"Lynch, Tom J\",\"Markov, Oleg\",\"Martin, Dustin\",\"McIntosh, Kamdyn\",\"Menadue, Connor\",\"Naish, Patrick\",\"Nankervis, Toby\",\"Pickett, Marlion\",\"Prestia, Dion\",\"Rance, Alex\",\"Riewoldt, Jack\",\"Rioli, Daniel\",\"Ross, Jack\",\"Short, Jayden\",\"Soldo, Ivan\",\"Stack, Sydney\",\"Townsend, Jacob\",\"Vlastuin, Nick\",\"Weller, Maverick\"])\n"
   ]
  },
  {
   "cell_type": "markdown",
   "metadata": {},
   "source": [
    "### Exercise 3"
   ]
  },
  {
   "cell_type": "markdown",
   "metadata": {},
   "source": [
    "Use `df.plot.pie()` to plot a pie chart of the states' population and area using the state data provieded above in the notebook. This should be two subplots on the same figure. See https://pandas.pydata.org/docs/reference/api/pandas.DataFrame.plot.pie.html."
   ]
  },
  {
   "cell_type": "code",
   "execution_count": null,
   "metadata": {},
   "outputs": [],
   "source": []
  },
  {
   "cell_type": "markdown",
   "metadata": {},
   "source": [
    "### Exercise 4"
   ]
  },
  {
   "cell_type": "markdown",
   "metadata": {},
   "source": [
    "Using the weather data, use `df.plot.hist()` to plot a histogram of dewpoint temperature and air temperature. Include both distrubtions on the same plot. See https://pandas.pydata.org/docs/reference/api/pandas.DataFrame.plot.hist.html."
   ]
  },
  {
   "cell_type": "code",
   "execution_count": null,
   "metadata": {},
   "outputs": [],
   "source": []
  },
  {
   "cell_type": "markdown",
   "metadata": {},
   "source": [
    "### Exercise 5"
   ]
  },
  {
   "cell_type": "markdown",
   "metadata": {},
   "source": [
    "Using the weather data, calculate the maximum and minimum temperatures for the 25 March. You will need to subset the data and use `df.min()` and `df.max()`."
   ]
  },
  {
   "cell_type": "code",
   "execution_count": null,
   "metadata": {},
   "outputs": [],
   "source": []
  }
 ],
 "metadata": {
  "kernelspec": {
   "display_name": "Python 3 (ipykernel)",
   "language": "python",
   "name": "python3"
  },
  "language_info": {
   "codemirror_mode": {
    "name": "ipython",
    "version": 3
   },
   "file_extension": ".py",
   "mimetype": "text/x-python",
   "name": "python",
   "nbconvert_exporter": "python",
   "pygments_lexer": "ipython3",
   "version": "3.8.10"
  }
 },
 "nbformat": 4,
 "nbformat_minor": 4
}
